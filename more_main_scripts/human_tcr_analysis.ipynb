{
 "cells": [
  {
   "cell_type": "markdown",
   "metadata": {},
   "source": [
    "# Human TCR experiments\n",
    "They need some special data processing, because the CBA beads used are different and produce extra noise above the lower limit of detection. We need to remove this noise to ensure that non-responding peptides give null trajectories in latent space. \n",
    "\n",
    "We need to set all IL-17A to zero first, because it's mostly just noise for all peptides. "
   ]
  },
  {
   "cell_type": "code",
   "execution_count": null,
   "metadata": {},
   "outputs": [],
   "source": [
    "import numpy as np\n",
    "import scipy as sp\n",
    "import pandas as pd\n",
    "import os, sys\n",
    "main_dir_path = os.path.abspath('../')\n",
    "if main_dir_path not in sys.path:\n",
    "    sys.path.insert(0, main_dir_path)\n",
    "\n",
    "import matplotlib.pyplot as plt\n",
    "import matplotlib as mpl\n",
    "import seaborn as sns\n",
    "\n",
    "import json\n",
    "from time import perf_counter"
   ]
  },
  {
   "cell_type": "code",
   "execution_count": null,
   "metadata": {},
   "outputs": [],
   "source": [
    "%matplotlib inline\n",
    "# Plot parameters for Science\n",
    "plt.rcParams[\"figure.figsize\"] = (2.5, 2.)\n",
    "plt.rcParams[\"axes.labelsize\"] = 8.\n",
    "plt.rcParams[\"legend.fontsize\"] = 8.\n",
    "plt.rcParams[\"axes.labelpad\"] = 0.5\n",
    "plt.rcParams[\"xtick.labelsize\"] = 7.\n",
    "plt.rcParams[\"ytick.labelsize\"] = 7.\n",
    "plt.rcParams[\"legend.title_fontsize\"] = 8.\n",
    "plt.rcParams[\"axes.titlesize\"] = 8.\n",
    "plt.rcParams[\"font.size\"] = 8.\n",
    "# For larger display of small graphs in the notebook\n",
    "plt.rcParams['figure.dpi'] = 120\n",
    "\n",
    "# color map for antigens\n",
    "with open(os.path.join(main_dir_path, \"data\", \"misc\", \"human_tcr_peptides_colors.json\"), \"r\") as h:\n",
    "    humanPepsPalette = json.load(h)\n",
    "    \n",
    "# Add colors for four missing peptides...\n",
    "humanPepsPalette[\"None\"] = mpl.colors.to_hex((0, 0, 0, 1), keep_alpha=True)  # Grey\n",
    "humanPepsPalette[\"ESO\"] = mpl.colors.to_hex((0.8, 0.8, 0.8, 1.0), keep_alpha=True)\n",
    "humanPepsPalette[\"PMA_Ionomycin\"] = mpl.colors.to_hex(\"xkcd:crimson\")\n",
    "humanPepsPalette[\"aCD3_28\"] = mpl.colors.to_hex(\"xkcd:bright blue\")\n",
    "humanPepsPalette[\"Null\"] = mpl.colors.to_hex((0.7, 0.7, 0.7, 1.0), keep_alpha=True)  # darker Grey\n",
    "sns.palplot(humanPepsPalette.values())\n",
    "plt.show()\n",
    "plt.close()"
   ]
  },
  {
   "cell_type": "markdown",
   "metadata": {},
   "source": [
    "# CD69 functional EC50 assay\n",
    "Dose response curves (supplementary figure S30 in the antigen encoding paper). \n",
    "\n",
    "<img src=\"../figures/supplemental-hTCR_EC50-panelD-new.png\" alt=\"Dose response\" width=\"500\"/>"
   ]
  },
  {
   "cell_type": "code",
   "execution_count": null,
   "metadata": {},
   "outputs": [],
   "source": [
    "with open(os.path.join(main_dir_path, \"data\", \"misc\", \"functional_EC50s_hTCR.json\"), \"r\") as handle: \n",
    "    ser_ec50 = pd.Series(json.load(handle), name=\"EC50\")\n",
    "ser_ec50_norm = np.log10(ser_ec50 / ser_ec50.min()).drop(\"aCD3_aCD28\")\n",
    "print(ser_ec50_norm)"
   ]
  },
  {
   "cell_type": "markdown",
   "metadata": {},
   "source": [
    "# Visualize cytokine time courses"
   ]
  },
  {
   "cell_type": "code",
   "execution_count": null,
   "metadata": {},
   "outputs": [],
   "source": [
    "df_raw = pd.read_hdf(os.path.join(main_dir_path, \"data\", \"final\", \n",
    "                        \"cytokineConcentrationPickleFile-20210520-hTCR_2-final.hdf\"))\n",
    "keep_cytos = [\"IFNg\", \"IL-17A\", \"IL-2\", \"IL-6\", \"TNFa\"]\n",
    "df_raw = df_raw.loc[df_raw.index.isin(keep_cytos, level=\"Cytokine\")]\n",
    "df_raw = df_raw.unstack(\"Cytokine\").stack(\"Time\")\n",
    "df_raw = pd.concat({\"concentration\": df_raw}, names=['Feature'], axis=1)"
   ]
  },
  {
   "cell_type": "code",
   "execution_count": null,
   "metadata": {
    "scrolled": false
   },
   "outputs": [],
   "source": [
    "# Only show cytokines of interest here (IFNg, IL-17A, IL-2) where special processing is involved. \n",
    "g = sns.relplot(data=(df_raw.loc[:, df_raw.columns.isin([\"IFNg\", \"IL-17A\", \"IL-2\"], level=\"Cytokine\")]\n",
    "                .stack(\"Cytokine\").reset_index()), \n",
    "           x=\"Time\", y=\"concentration\", \n",
    "           hue=\"Peptide\", col=\"TCellNumber\", size=\"Concentration\", row=\"Cytokine\", style=\"Donor\", kind=\"line\", \n",
    "           height=1.5, sizes=[1.5], palette=humanPepsPalette)\n",
    "for ax in g.axes.flat:\n",
    "    ax.set_yscale(\"log\")\n",
    "for i in range(g.axes.shape[0]):\n",
    "    titl = g.axes[i, 0].get_title().split(\"|\")\n",
    "    g.axes[i, 0].set_ylabel(\"[\" + titl[0].split(\"=\")[1].strip() + \"] (pM)\")  # Cytokine name\n",
    "    for k in range(g.axes.shape[1]):\n",
    "        titl = g.axes[i, k].get_title().split(\"|\")\n",
    "        if i == 0:\n",
    "            g.axes[i, k].set_title(titl[1])\n",
    "        else:\n",
    "            g.axes[i, k].set_title(\"\")\n",
    "for k in range(g.axes.shape[1]):\n",
    "    g.axes[-1, k].set_xlabel(\"Time (h)\")\n",
    "g.fig.savefig(os.path.join(main_dir_path, \"figures\", \"supp\", \"htcr_raw_cytokine_data.pdf\"), \n",
    "              transparent=True, bbox_inches=\"tight\", bbox_extra_artists=(g.legend,))     \n",
    "plt.show()\n",
    "plt.close()"
   ]
  },
  {
   "cell_type": "markdown",
   "metadata": {},
   "source": [
    "# Filtering background  noise with a K-S test on IFN-$\\gamma$\n",
    "The unusual background noise in this dataset can be noticed on the previous plots.  \n",
    "\n",
    "To filter it out when necessary, we group time series for each peptide according to some specified levels (e.g. TCellNumber and Donor, in addition to Peptide of course), and compare each group to the group with the Null peptide condition. More precisely, compare their respective IFN-$\\gamma$ distributions with a Kolmogorov-Smirnov test; if the group is found to have smaller or equal IFN-$\\gamma$ values than the Null peptide, set a choice of cytokines (e.g. IL-2) to zero. \n",
    "\n",
    "Note that we set IL-17A to zero for *all* time series, since this cytokine is basically just noise for all peptides with human cells. This will be proved below by looking at the signal-to-noise ratio. \n",
    "\n",
    "The details of this filtering can be found in the function process_file_filter in the ltspcyt.scripts.process_raw_data module. \n",
    "\n",
    "Lastly, note that similar results to the filtering based on IFN-$\\gamma$ can be obtained by increasing the lower LOD to 7 % of the detectable fluorescence range, instead of the default value of 3 %. "
   ]
  },
  {
   "cell_type": "code",
   "execution_count": null,
   "metadata": {},
   "outputs": [],
   "source": [
    "from ltspcyt.scripts.process_raw_data import process_file_filter"
   ]
  },
  {
   "cell_type": "code",
   "execution_count": null,
   "metadata": {
    "scrolled": false
   },
   "outputs": [],
   "source": [
    "human_folder = os.path.join(main_dir_path, \"data\", \"initial\") \n",
    "human_filename = \"cytokineConcentrationPickleFile-20210520-hTCR_2.hdf\"\n",
    "[data, data_log, data_smooth, df_spl, filtered] = process_file_filter(human_folder, human_filename,\n",
    "            take_log=True, rescale_max=False, smooth_size=3, rtol_spline=0.5, do_filter_null=True, \n",
    "            null_reference=\"Null\", choice_remove_cyto=[\"IL-2\"], choice_filter_cyto=\"IFNg\", filter_pval=0.5, \n",
    "            split_filter_levels=[\"TCellNumber\"], remove_il17=True, return_list_filt=True)"
   ]
  },
  {
   "cell_type": "markdown",
   "metadata": {},
   "source": [
    "### Plot time series that were filtered out\n",
    "As a check that we did not do anything silly here. Plot them in colors against a light grey background of all other trajectories. "
   ]
  },
  {
   "cell_type": "code",
   "execution_count": null,
   "metadata": {},
   "outputs": [],
   "source": [
    "filtered_conds = [a[0] for a in filtered]\n",
    "data_filtered = data.unstack([\"Donor\", \"Concentration\"]).loc[filtered_conds].stack([\"Donor\", \"Concentration\"])\n",
    "data_other = data[~data.isin(data_filtered)]\n",
    "\n",
    "\n",
    "tcellnums = data.index.unique(\"TCellNumber\")\n",
    "fig, axes = plt.subplots(2, len(tcellnums) // 2, sharey=True, sharex=True)\n",
    "fig.set_size_inches(5.5, 4.)\n",
    "all_handles, all_labels = [], []\n",
    "kept_traj_color = \"xkcd:light grey\"\n",
    "for i in range(len(tcellnums)): \n",
    "    g = sns.lineplot(data=(data_other.xs(\"IL-2\", level=\"Cytokine\", axis=1)\n",
    "                     .xs(tcellnums[i], level=\"TCellNumber\").stack(\"Time\").reset_index()), \n",
    "            x=\"Time\", y=0, hue=None, color=kept_traj_color, size=\"Peptide\", \n",
    "            sizes=[1.5]*len(data_other.xs(tcellnums[i], level=\"TCellNumber\").index.unique(\"Peptide\")),\n",
    "            style=\"Donor\", ax=axes.flat[i], legend=False)\n",
    "    #show_leg = bool(i == len(tcellnums) - 1)\n",
    "    show_leg = True\n",
    "    g = sns.lineplot(data=(data_filtered.xs(\"IL-2\", level=\"Cytokine\", axis=1)\n",
    "                     .xs(tcellnums[i], level=\"TCellNumber\").stack(\"Time\").reset_index()), \n",
    "            x=\"Time\", y=0, hue=\"Peptide\", size=\"Peptide\",\n",
    "            sizes=[1.5]*len(data_filtered.xs(tcellnums[i], level=\"TCellNumber\").index.unique(\"Peptide\")),\n",
    "            style=\"Donor\", ax=axes.flat[i], legend=show_leg, palette=humanPepsPalette)\n",
    "    # Get potentially new legend handles and labels, but remove the default legend\n",
    "    handles, labels = axes.flat[i].get_legend_handles_labels()\n",
    "    if i == 0: \n",
    "        all_handles = handles[:-4]\n",
    "        all_labels = labels[:-4]\n",
    "        final_handles = handles[-4:]\n",
    "        final_labels = labels[-4:]\n",
    "    else:\n",
    "        for j in range(len(labels)):\n",
    "            l = labels[j]\n",
    "            if l == \"Peptide\": continue  # No need to include again\n",
    "            elif l == \"Donor\": break  # Reached the end of peptides\n",
    "            elif l not in all_labels:  # New peptide found\n",
    "                all_labels.append(l)\n",
    "                all_handles.append(handles[j])\n",
    "    # Remove default legend\n",
    "    g.legend_.remove()\n",
    "    # Add title\n",
    "    axes.flat[i].set_title(tcellnums[i] + \" T cells\", y=0.82, va=\"bottom\", fontsize=10)\n",
    "\n",
    "# Add common legend. Add a color to the list of peptides, for kept trajectories\n",
    "all_handles.append(mpl.lines.Line2D([0], [0], lw=all_handles[-1].get_linewidth(), \n",
    "                    color=kept_traj_color, label=\"Not filtered\"))\n",
    "all_labels.append(\"Not filtered\")\n",
    "# Put back the final labels (\"Donor\" and the line styles)\n",
    "\n",
    "all_handles += final_handles\n",
    "all_labels += final_labels\n",
    "leg = fig.legend(all_handles, all_labels, frameon=False, loc=\"upper left\", bbox_to_anchor=(0.8, 1.))\n",
    "\n",
    "\n",
    "# Change y scale to log\n",
    "for ax in axes.flat:\n",
    "    ax.set_yscale(\"log\")\n",
    "for i in range(axes.shape[0]):\n",
    "    axes[i, 0].set_ylabel(\"[IL-2] (pM)\")\n",
    "for j in range(axes.shape[1]):\n",
    "    axes[-1, j].set_xlabel(\"Time (h)\")\n",
    "fig.tight_layout()\n",
    "fig.subplots_adjust(right=0.8)  # Make room for legend\n",
    "fig.savefig(os.path.join(main_dir_path, \"figures\", \"supp\", \n",
    "                         \"htcr_il-2_trajectories_filtered_by_ifng-kolmogorov-smirnov.pdf\"),\n",
    "            transparent=True, bbox_inches=\"tight\", bbox_extra_artists=(leg,))\n",
    "plt.show()\n",
    "plt.close()"
   ]
  },
  {
   "cell_type": "markdown",
   "metadata": {},
   "source": [
    "### Remark\n",
    "A couple of time series seem to stand out in 100k T cells, but they turn out to be the two conditions that must have the least response: peptide 5Y, which produced fewer CD69+ T cells than any other peptide in our antigenicity assay (supplementary figure), and \"None\", which is T cells alone, without even tumor cells; it was just another control we had in this experiment. Clearly, these time series are just background and not a sign of any kind of activation. This is *very* reassuring. "
   ]
  },
  {
   "cell_type": "markdown",
   "metadata": {},
   "source": [
    "# Latent space and ballistic parameters after filtering\n",
    "Run the entire processing pipeline, including the noise filtering above, which ensures that non-responding peptides come out with near-zero latent space trajectories and near-zero $v_0$ values, except 9V, 4A, 8S, and maybe 8K (which are supposed to respond). Otherwise, non-negligible artifacts can be seen in latent space for those time series which are really just noise and should be zero. "
   ]
  },
  {
   "cell_type": "markdown",
   "metadata": {},
   "source": [
    "### Project to latent space and fit model"
   ]
  },
  {
   "cell_type": "code",
   "execution_count": null,
   "metadata": {},
   "outputs": [],
   "source": [
    "from ltspcyt.scripts.adapt_dataframes import set_standard_order, sort_SI_column\n",
    "from ltspcyt.scripts.latent_space import import_mutant_output\n",
    "from ltspcyt.scripts.neural_network import import_WT_output\n",
    "\n",
    "# Curve fitting functions\n",
    "from ltspcyt.scripts.sigmoid_ballistic import return_param_and_fitted_latentspace_dfs"
   ]
  },
  {
   "cell_type": "code",
   "execution_count": null,
   "metadata": {},
   "outputs": [],
   "source": [
    "peptides=df_spl.index.get_level_values(\"Peptide\").unique().to_list()\n",
    "concentrations=[\"1uM\",\"100nM\",\"10nM\",\"1nM\"]\n",
    "fit_vars={\"Constant velocity\":[\"v0\",\"t0\",\"theta\",\"vt\"],\"Constant force\":[\"F\",\"t0\",\"theta\",\"vt\"],\n",
    "         \"Sigmoid\":[\"a0\", \"t0\", \"theta\", \"v1\", \"gamma\"], \n",
    "         \"Sigmoid_freealpha\":[\"a0\", \"t0\", \"theta\", \"v1\", \"alpha\", \"beta\"]}"
   ]
  },
  {
   "cell_type": "code",
   "execution_count": null,
   "metadata": {},
   "outputs": [],
   "source": [
    "minmaxfile = os.path.join(main_dir_path, \"data\", \"trained-networks\", \"min_max-thomasRecommendedTraining.hdf\")\n",
    "df_min = pd.read_hdf(minmaxfile, key=\"df_min\")\n",
    "df_max = pd.read_hdf(minmaxfile, key=\"df_max\")\n",
    "projmat = np.load(os.path.join(main_dir_path, \"data\", \"trained-networks\", \n",
    "                               \"mlp_input_weights-thomasRecommendedTraining.npy\"))\n",
    "print(df_max)"
   ]
  },
  {
   "cell_type": "code",
   "execution_count": null,
   "metadata": {},
   "outputs": [],
   "source": [
    "cytokines = df_min.index.get_level_values(\"Cytokine\")\n",
    "times = np.arange(1,73)"
   ]
  },
  {
   "cell_type": "code",
   "execution_count": null,
   "metadata": {},
   "outputs": [],
   "source": [
    "df_dat = df_spl.unstack(\"Time\").loc[:,(\"integral\", cytokines, times)].stack(\"Time\")\n",
    "df_dat = (df_dat - df_min)/(df_max - df_min)\n",
    "df_proj = pd.DataFrame(np.dot(df_dat, projmat), index=df_dat.index,columns=[\"Node 1\",\"Node 2\"])"
   ]
  },
  {
   "cell_type": "code",
   "execution_count": null,
   "metadata": {},
   "outputs": [],
   "source": [
    "# Fitting\n",
    "fit=\"Constant velocity\"\n",
    "regul_rate = 1.0\n",
    "name_specs = \"{}20_reg{}\".format(fit, str(round(regul_rate, 2)).replace(\".\", \"\"))\n",
    "\n",
    "start_time = perf_counter()\n",
    "\n",
    "df_proj = pd.concat({\"hTCR\": df_proj}, names=[\"Data\"])\n",
    "ret = return_param_and_fitted_latentspace_dfs(df_proj, fit, reg_rate=regul_rate)\n",
    "df_params, df_compare, df_hess, df_v2v1 = ret\n",
    "\n",
    "end_t = perf_counter()\n",
    "print(\"Time to fit: \", perf_counter() - start_time)\n",
    "del start_time\n",
    "\n",
    "nparameters = len(fit_vars[fit])\n",
    "print(df_hess.median())"
   ]
  },
  {
   "cell_type": "markdown",
   "metadata": {},
   "source": [
    "# Plot the $v_0$ parameter versus EC50\n",
    "Hope that non-responding peptides are close to zero now. "
   ]
  },
  {
   "cell_type": "code",
   "execution_count": null,
   "metadata": {},
   "outputs": [],
   "source": [
    "%matplotlib inline"
   ]
  },
  {
   "cell_type": "code",
   "execution_count": null,
   "metadata": {},
   "outputs": [],
   "source": [
    "peps_to_plot = ser_ec50_norm.index.to_list()\n",
    "\n",
    "fig, ax = plt.subplots()\n",
    "fig.set_size_inches(6, 4.)\n",
    "for pep in peps_to_plot:\n",
    "    yvals = df_params.xs(pep, level=\"Peptide\", axis=0).loc[:, \"v0\"]\n",
    "    ymean = np.mean(yvals)\n",
    "    ybar = np.std(yvals)\n",
    "    ec50 = [ser_ec50[pep]] * len(yvals)\n",
    "    #ax.errorbar(ser_ec50[pep], ymean, ybar, ls=\"none\", ms=6, marker=\"o\", label=pep)\n",
    "    ax.plot(ec50, yvals, ls=\"none\", ms=6, marker=\"o\", label=pep)\n",
    "ax.legend()\n",
    "ax.set(xscale=\"log\", xlabel=r\"EC$_{50}$ (Mol)\", ylabel=r\"$v_0$ (a. u.)\")\n",
    "plt.show()\n",
    "plt.close()"
   ]
  },
  {
   "cell_type": "markdown",
   "metadata": {},
   "source": [
    "# Latent spaces"
   ]
  },
  {
   "cell_type": "code",
   "execution_count": null,
   "metadata": {
    "scrolled": false
   },
   "outputs": [],
   "source": [
    "df_plot = df_proj.reset_index()\n",
    "sns.relplot(data=df_plot, x=\"Node 1\", y=\"Node 2\", hue=\"Peptide\", size=\"TCellNumber\", \n",
    "            style=\"Donor\", col=\"Peptide\",  col_wrap=5, height=2., kind=\"line\", sort=False)"
   ]
  },
  {
   "cell_type": "code",
   "execution_count": null,
   "metadata": {},
   "outputs": [],
   "source": [
    "# Export parameter fits for further plotting v0 vs EC50 (main text figure 4)\n",
    "df_params.to_hdf(os.path.join(main_dir_path, \"results\", \"fits\", \n",
    "                \"hTCR_constant_velocity_parameter_fits.hdf\"), key=\"df\")"
   ]
  },
  {
   "cell_type": "markdown",
   "metadata": {},
   "source": [
    "# Signal-to-noise ratio of cytokine measurements\n",
    "The goal is to show how IL-17A is only noise and show why it was set to zero during the processing. \n",
    "We show these calculations in the notebook ``cytokines_distribution_noise.ipynb``, where we already carry similar calculations for the mouse data. "
   ]
  },
  {
   "cell_type": "code",
   "execution_count": null,
   "metadata": {},
   "outputs": [],
   "source": []
  }
 ],
 "metadata": {
  "kernelspec": {
   "display_name": "Python 3",
   "language": "python",
   "name": "python3"
  },
  "language_info": {
   "codemirror_mode": {
    "name": "ipython",
    "version": 3
   },
   "file_extension": ".py",
   "mimetype": "text/x-python",
   "name": "python",
   "nbconvert_exporter": "python",
   "pygments_lexer": "ipython3",
   "version": "3.7.6"
  }
 },
 "nbformat": 4,
 "nbformat_minor": 4
}
