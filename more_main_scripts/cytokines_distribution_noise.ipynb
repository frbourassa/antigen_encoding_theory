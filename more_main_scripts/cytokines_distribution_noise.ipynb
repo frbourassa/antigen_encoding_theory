{
 "cells": [
  {
   "cell_type": "markdown",
   "metadata": {},
   "source": [
    "# Noise distribution of cytokine time series\n"
   ]
  },
  {
   "cell_type": "code",
   "execution_count": null,
   "metadata": {},
   "outputs": [],
   "source": [
    "import numpy as np\n",
    "import pandas as pd\n",
    "import scipy as sp\n",
    "import scipy.stats\n",
    "import psutil, pickle\n",
    "import os, sys\n",
    "main_dir_path = os.path.abspath('../')\n",
    "sys.path.insert(0, main_dir_path)\n",
    "\n",
    "# plotting\n",
    "import seaborn as sns\n",
    "import matplotlib.pyplot as plt\n",
    "import matplotlib as mpl\n",
    "\n",
    "# Custom scripts\n",
    "import utils.custom_pandas as cpd\n",
    "from utils.process_raw_data_choices import process_file_choices, select_naive_data\n",
    "from utils.multiprocess_training import process_train_dsets, process_test_dsets, init_peps_cytos_concs"
   ]
  },
  {
   "cell_type": "code",
   "execution_count": null,
   "metadata": {},
   "outputs": [],
   "source": [
    "%matplotlib inline"
   ]
  },
  {
   "cell_type": "code",
   "execution_count": null,
   "metadata": {},
   "outputs": [],
   "source": [
    "# Plot parameters for Science\n",
    "plt.rcParams[\"figure.figsize\"] = (2.5, 2.)\n",
    "plt.rcParams[\"axes.labelsize\"] = 8.\n",
    "plt.rcParams[\"legend.fontsize\"] = 8.\n",
    "plt.rcParams[\"axes.labelpad\"] = 0.5\n",
    "plt.rcParams[\"xtick.labelsize\"] = 7.\n",
    "plt.rcParams[\"ytick.labelsize\"] = 7.\n",
    "plt.rcParams[\"legend.title_fontsize\"] = 8.\n",
    "plt.rcParams[\"axes.titlesize\"] = 8.\n",
    "plt.rcParams[\"font.size\"] = 8.\n",
    "\n",
    "# For larger display of small graphs in the notebook\n",
    "plt.rcParams['figure.dpi'] = 120"
   ]
  },
  {
   "cell_type": "code",
   "execution_count": null,
   "metadata": {},
   "outputs": [],
   "source": [
    "cyt_palette = sns.cubehelix_palette(5, start=.5, rot=-.75)  # blue-green colors\n",
    "cyt_palette.append(mpl.colors.to_rgba(\"xkcd:pink\"))\n",
    "cyt_palette.append(mpl.colors.to_rgba(\"xkcd:purple\"))\n",
    "cyt_order = [\"IL-2\", \"IFNg\", \"IL-17A\", \"IL-6\", \"TNFa\"][::-1]  # Based on MI order, from highest to lowest (highest MI is darkest)\n",
    "cyt_order.append(\"IL-4\")\n",
    "cyt_order.append(\"IL-10\")\n",
    "sns.palplot(cyt_palette)\n",
    "cyt_palette = {cyt_order[i]:cyt_palette[i] for i in range(len(cyt_order))}\n",
    "nice_cyto_labels = {\"IL-2\":\"IL-2\", \"IFNg\":r\"IFN-$\\gamma$\", \"IL-17A\":\"IL-17A\", \"IL-6\":\"IL-6\", \"TNFa\":\"TNF\", \n",
    "                   \"IL-4\":\"IL-4\", \"IL-10\":\"IL-10\"}"
   ]
  },
  {
   "cell_type": "code",
   "execution_count": null,
   "metadata": {},
   "outputs": [],
   "source": [
    "train_data_files = [\n",
    "    'cytokineConcentrationPickleFile-20190412-PeptideComparison_OT1_Timeseries_18-final.pkl',\n",
    "    'cytokineConcentrationPickleFile-20190608-PeptideComparison_OT1_Timeseries_19-final.pkl',\n",
    "    'cytokineConcentrationPickleFile-20190718-NewPeptideComparison_OT1_Timeseries_20-final.pkl',\n",
    "    'cytokineConcentrationPickleFile-20190725-PeptideTumorComparison_OT1_Timeseries_1-final.pkl',\n",
    "    'cytokineConcentrationPickleFile-20190802-TCellNumber_OT1_Timeseries_7-final.pkl', \n",
    "    'cytokineConcentrationPickleFile-20190812-Activation_Timeseries_1-final.pkl'\n",
    "]\n",
    "\n",
    "test_data_files = [\n",
    "    'cytokineConcentrationPickleFile-20200220-Activation_TCellNumber_1-final.pkl', \n",
    "    'cytokineConcentrationPickleFile-20190404-CD25MutantTimeSeries_OT1_Timeseries_2-final.pkl',\n",
    "    'cytokineConcentrationPickleFile-20191029-PeptideComparison_OT1_Timeseries_22-final.pkl',\n",
    "    'cytokineConcentrationPickleFile-20191106-PeptideComparison_OT1_Timeseries_23-final.pkl',\n",
    "    'cytokineConcentrationPickleFile-20200624-HighMI_1-1-final.pkl',\n",
    "    'cytokineConcentrationPickleFile-20200624-HighMI_1-2-final.pkl',\n",
    "    'cytokineConcentrationPickleFile-20200624-HighMI_1-3-final.pkl',\n",
    "    'cytokineConcentrationPickleFile-20200624-HighMI_1-4-final.pkl'\n",
    "]"
   ]
  },
  {
   "cell_type": "markdown",
   "metadata": {},
   "source": [
    "# Import training and test data with different processings\n",
    "Log scale and linear scale, smoothing or no smoothing (to compare splines to raw data). Never compute time integrals: we want to look at concentrations here. "
   ]
  },
  {
   "cell_type": "code",
   "execution_count": null,
   "metadata": {},
   "outputs": [],
   "source": [
    "process_kwargs = {\"take_log\": True, \"rescale_max\": False, \"max_time\": 72, \n",
    "                  \"do_integrate\": False, \"do_smooth\": False, \"subtract_min\": True}\n",
    "dummy_minmax = {\"min\":0, \"max\":1}\n",
    "\n",
    "# Raw, log scale\n",
    "df_train_raw = process_test_dsets(train_data_files, process_kwargs, dummy_minmax,  \n",
    "                            folder=os.path.join(main_dir_path, \"data\", \"final\"), \n",
    "                            extra_cytos=[\"IL-4\", \"IL-10\"], tslice=slice(0, 72)).sort_index()\n",
    "\n",
    "# Splines, log scale\n",
    "process_kwargs[\"do_smooth\"] = True\n",
    "df_train_splines = process_test_dsets(train_data_files, process_kwargs, dummy_minmax,  \n",
    "                            folder=os.path.join(main_dir_path, \"data\", \"final\"), \n",
    "                            extra_cytos=[\"IL-4\", \"IL-10\"], tslice=slice(0, 72)).sort_index()\n",
    "\n",
    "# Raw, linear scale\n",
    "process_kwargs[\"do_smooth\"] = False\n",
    "process_kwargs[\"take_log\"] = False\n",
    "# process_kwargs[\"subtract_min\"] = False\n",
    "df_train_raw_linear = process_test_dsets(train_data_files, process_kwargs, dummy_minmax,  \n",
    "                            folder=os.path.join(main_dir_path, \"data\", \"final\"), \n",
    "                            extra_cytos=[\"IL-4\", \"IL-10\"], tslice=slice(0, 72)).sort_index()\n",
    "\n",
    "# Splines, linear scale\n",
    "process_kwargs[\"do_smooth\"] = True\n",
    "df_train_splines_linear = process_test_dsets(train_data_files, process_kwargs, dummy_minmax,  \n",
    "                            folder=os.path.join(main_dir_path, \"data\", \"final\"), \n",
    "                            extra_cytos=[\"IL-4\", \"IL-10\"], tslice=slice(0, 72)).sort_index()"
   ]
  },
  {
   "cell_type": "markdown",
   "metadata": {},
   "source": [
    "### Experimental time points at half-hours\n",
    "The processing code is written to evaluate splines at every hour, while a few experimental time points are at half-hours. Instead of re-writing this code to evaluate splines at the exact times we want, I will use linear interpolation between available spline time points ."
   ]
  },
  {
   "cell_type": "code",
   "execution_count": null,
   "metadata": {},
   "outputs": [],
   "source": [
    "data_times = df_train_raw.index.get_level_values(\"Time\").unique().to_list()\n",
    "splines_times = df_train_splines.index.get_level_values(\"Time\").unique().to_list()\n",
    "all_times = set(data_times)\n",
    "all_times.update(set(splines_times))\n",
    "all_times = sorted(list(all_times))\n",
    "\n",
    "# Interpolate. Reindexing introduces NaNs at missing experimental times, then interpolate replaces them\n",
    "# Then keep only the data times now that interpolation is over\n",
    "df_train_splines2 = (df_train_splines.unstack(\"Time\").stack(\"Cytokine\").stack(\"Feature\")\n",
    "                    .reindex(all_times, axis=1)\n",
    "                    .interpolate(axis=1, method=\"linear\")\n",
    "                    .reindex(data_times, axis=1)\n",
    "                    .unstack(\"Feature\").unstack(\"Cytokine\").stack(\"Time\").sort_index())\n",
    "df_train_splines_linear2 = (df_train_splines_linear.unstack(\"Time\").stack(\"Cytokine\").stack(\"Feature\")\n",
    "                    .reindex(all_times, axis=1)\n",
    "                    .interpolate(axis=1, method=\"linear\")\n",
    "                    .reindex(data_times, axis=1)\n",
    "                    .unstack(\"Feature\").unstack(\"Cytokine\").stack(\"Time\").sort_index())"
   ]
  },
  {
   "cell_type": "code",
   "execution_count": null,
   "metadata": {},
   "outputs": [],
   "source": [
    "# Remove large final artifacts: no cyto spans more than 4.5 decades\n",
    "df_train_splines2 = df_train_splines2.clip(0, 4.5)  \n",
    "df_train_splines2"
   ]
  },
  {
   "cell_type": "markdown",
   "metadata": {},
   "source": [
    "# Compute residuals and signal-to-noise ratio\n",
    "Now that we have data and splines evaluated at the same time points, we can compute residuals. These residuals are then useful to compute the signal-to-noise ratio:\n",
    "\n",
    "$$ \\mathrm{SNR} = \\frac{\\langle c \\rangle}{\\sigma_c} $$\n",
    "\n",
    "A high signal-to-noise means that the noise is small, the signal is strong. A low SNR means the data is very noisy. We can use this metric to explain why we discarded IL-4 and IL-10.\n",
    "\n",
    "We compute SNR with two different statistical ensembles. \n",
    " 1. We compute the \"overall\" SNR, across all time points and conditions in the training datasets. This gives a rough estimate of which cytokines contain a consistent signal in multiple experiments ,and which are mostly background noise. \n",
    " 2. We find the quantiles of the distribution of measured values of each cytokine (across time and conditions), and we compute the SNR inside each interval between quantiles. In other words, we compute the SNR for the cytokine data in the first quantile, the second, and so on. Of course, the SNR increases with the quantile interval considered (because the numerator, the signal, increases). The point is to show that IL-4 and IL-10, even in the top tier, have very low SNR. A low overall SNR, by subdividing the data at quantiles, could have hidden a few elevated, non-noisy trajectories for those cytokines. With quantiles, we isolate the highest values of each cytokine and show that it is still mostly noise for IL-4 and IL-10\n",
    " \n",
    "We elected to use five quantiles, i.e. quintiles, instead of quartiles, to have finer subdivisions without thinning too much the amount of data available in each interval. "
   ]
  },
  {
   "cell_type": "code",
   "execution_count": null,
   "metadata": {},
   "outputs": [],
   "source": [
    "# Compute residuals for log-transformed and linear data\n",
    "# Dropna to remove time points not available in a given dataset\n",
    "# When we reindexed with data times, all data sets in the df_splines received all possible exp. time points, \n",
    "# not just the time points in that dataset. \n",
    "df_train_res = (df_train_raw - df_train_splines2).dropna(axis=0)\n",
    "df_train_res_linear = (df_train_raw_linear - df_train_splines_linear2).dropna(axis=0)\n",
    "\n",
    "print(df_train_raw_linear.max())\n",
    "print(df_train_raw_linear.min())"
   ]
  },
  {
   "cell_type": "markdown",
   "metadata": {},
   "source": [
    "## Overall signal-to-noise ratio\n",
    "Without sub-dividing the data points into quantile intervals. "
   ]
  },
  {
   "cell_type": "code",
   "execution_count": null,
   "metadata": {},
   "outputs": [],
   "source": [
    "# Compute SNR over all data points for each cytokine\n",
    "overall_snrs_log = df_train_splines2.mean(axis=0) / np.sqrt((df_train_res**2).mean(axis=0))\n",
    "overall_snrs_lin = df_train_splines_linear2.mean(axis=0) / np.sqrt((df_train_res_linear**2).mean(axis=0))\n",
    "\n",
    "overall_snrs_log = overall_snrs_log.sort_values()\n",
    "overall_snrs_lin = overall_snrs_lin.reindex(overall_snrs_log.index)"
   ]
  },
  {
   "cell_type": "code",
   "execution_count": null,
   "metadata": {},
   "outputs": [],
   "source": [
    "# Joint plot for log and linear scales\n",
    "fig, axes = plt.subplots(1, 2, sharey=True)\n",
    "fig.set_size_inches(2.5*2, 2.)\n",
    "xbars = np.arange(len(df_train_splines2.columns))\n",
    "colors = [cyt_palette[k] for k in overall_snrs_log.index.get_level_values(\"Cytokine\")]\n",
    "for j in range(len(colors)):\n",
    "    axes[0].bar(xbars[j], width=0.5, height=overall_snrs_log.iloc[j], \n",
    "                facecolor=colors[j], edgecolor=\"k\")\n",
    "    axes[1].bar(xbars[j], width=0.5, height=overall_snrs_lin.iloc[j], \n",
    "                facecolor=colors[j], edgecolor=\"k\")\n",
    "    axes[0].annotate(\"{:.1f}\".format(overall_snrs_log.iloc[j]), xy=(xbars[j], overall_snrs_log.iloc[j]+0.5), \n",
    "                                    fontsize=7, ha=\"center\")\n",
    "    axes[1].annotate(\"{:.1f}\".format(overall_snrs_lin.iloc[j]), xy=(xbars[j], overall_snrs_lin.iloc[j]+0.5), \n",
    "                                    fontsize=7, ha=\"center\")\n",
    "\n",
    "ylims = axes[0].get_ylim()\n",
    "for i in range(2):\n",
    "    axes[i].set_xticks(xbars)\n",
    "    #axes[i].set_yscale(\"log\")\n",
    "    #axes[i].set_ylim(1, ylims[1]*1.35)\n",
    "    axes[i].set_ylim(ylims[0], ylims[1]+1.5)\n",
    "ticklabels = overall_snrs_log.index.get_level_values(\"Cytokine\").map(nice_cyto_labels)\n",
    "axes[0].set_xticklabels(ticklabels, rotation=-30)\n",
    "ticklabels = overall_snrs_lin.index.get_level_values(\"Cytokine\").map(nice_cyto_labels)\n",
    "axes[1].set_xticklabels(ticklabels, rotation=-30)\n",
    "axes[0].set_ylabel(\"Signal-to-noise ratio\")\n",
    "axes[0].set_title(\"Log-transformed data\")\n",
    "axes[1].set_title(\"Linear-scale data\")\n",
    "#axes[0].axhline(2, ls=\"--\", lw=1., color=\"k\", zorder=0)\n",
    "\n",
    "fig.tight_layout(w_pad=6.)\n",
    "#fig.savefig(os.path.join(main_dir_path, \"figures\", \"supp\", \n",
    "#    \"il4_il10_overall_signal-to-noise-ratio_log-linear.pdf\"), transparent=True)\n",
    "\n",
    "plt.show()\n",
    "plt.close()"
   ]
  },
  {
   "cell_type": "markdown",
   "metadata": {},
   "source": [
    "## Residuals per range of cytokine quantiles\n",
    "We find quintiles of the distribution of each cytokine, in linear and log scale, and we split the data points at those quintile values. By definition, there will be 1/5th of the values in each inter-quintile interval. \n",
    "Then, we compute the signal-to-noise ratio in each subinterval, for each cytokine. \n",
    "\n",
    "We only do this for log-transformed cytokine data, because the plot above shows how poor the signal is for linear-scale cytokine concentrations. "
   ]
  },
  {
   "cell_type": "code",
   "execution_count": null,
   "metadata": {},
   "outputs": [],
   "source": [
    "# This function distributes residuals in quantile intervals and computes SNR in each. \n",
    "# We are mostly interested in the latter part (SNR). \n",
    "# Argument is a Series (samples for one cytokine, for instance)\n",
    "def residuals_distrib_per_range(ser_res, ser_spl, nbins=5, kind=\"equal\"):\n",
    "    \"\"\" kind is either \"equal\" or \"quantile\". \n",
    "    Each value in the returned dists gives the histogram weights, the histogram bin separators, \n",
    "    the signal-to-noise ratio, and the mean value of the cytokine in that quantile interval. \n",
    "    The keys are the quantiles bounding each interval. \"\"\"\n",
    "    if kind == \"equal\":\n",
    "        binseps = np.linspace(ser_spl.min(), ser_spl.max(), nbins+1)\n",
    "    elif kind == \"quantile\":\n",
    "        binseps = ser_spl.quantile(np.linspace(0.0, 1.0, nbins+1)).values\n",
    "        for i in range(len(binseps)-1):\n",
    "            if binseps[i+1] == binseps[i]:\n",
    "                binseps[i+1] += 0.00001*binseps[-1]  # Just something small to create a non-zero interval\n",
    "    else:\n",
    "        raise ValueError(\"'kind' should be either 'equal' or 'quantile'\")\n",
    "    \n",
    "    dists = {}\n",
    "    \n",
    "    for i in range(nbins):\n",
    "        rg = (binseps[i], binseps[i+1])\n",
    "        wh = np.logical_and((ser_spl < rg[1]), (ser_spl >= rg[0]))\n",
    "        samples = ser_res[wh]\n",
    "        spline_samples = ser_spl[wh]\n",
    "        histo, seps = np.histogram(samples)\n",
    "        mean_within = np.mean(spline_samples)\n",
    "        snr = mean_within / np.sqrt(np.mean(samples**2))\n",
    "        dists[rg] = (histo, seps, snr, mean_within)\n",
    "    return dists"
   ]
  },
  {
   "cell_type": "code",
   "execution_count": null,
   "metadata": {},
   "outputs": [],
   "source": [
    "# Compute SNR within each quantile interval, for each cytokine, in log transformed values\n",
    "n_subdivs = 5  # quintiles\n",
    "quantile_snrs_grid = np.zeros([7, n_subdivs])\n",
    "quantile_means_grid = np.zeros([7, n_subdivs])\n",
    "\n",
    "for col in df_train_res.columns:\n",
    "    i = cyt_order.index(col[1])\n",
    "    cy_dists = residuals_distrib_per_range(df_train_res[col], df_train_splines2[col], \n",
    "                                           nbins=n_subdivs, kind=\"quantile\")\n",
    "    ranges = cy_dists.keys()\n",
    "    ranges = sorted(ranges, key=lambda x: x[0])\n",
    "    for j in range(n_subdivs):\n",
    "        heights, seps, snr, mn_within = cy_dists[ranges[j]]\n",
    "        quantile_means_grid[i, j] = mn_within\n",
    "        quantile_snrs_grid[i, j] = snr  # Store SNR"
   ]
  },
  {
   "cell_type": "code",
   "execution_count": null,
   "metadata": {},
   "outputs": [],
   "source": [
    "# Plot SNR as a function of quantile\n",
    "# Maybe: plot as a function of mean cytokine value within quantile?\n",
    "fig, ax = plt.subplots()\n",
    "quintile_midpoints = np.arange(10, 100, 20)\n",
    "quintile_boundaries = np.arange(0, 101, 20).astype(int)\n",
    "# Sort cytokines according to snr in the last quantile, which will be right next to the legend\n",
    "argsort_cytos_per_snr = np.argsort(quantile_snrs_grid[:, -1])[::-1]\n",
    "cyt_order_snr = np.asarray(cyt_order)[argsort_cytos_per_snr]\n",
    "quantile_snrs_grid2 = quantile_snrs_grid[argsort_cytos_per_snr, :]\n",
    "markers = [\"o\", \"s\", \"^\", \"*\", \"d\", \"x\", \"+\"]\n",
    "for i, cyt in enumerate(cyt_order_snr):\n",
    "    colr = cyt_palette[cyt]\n",
    "    if cyt == \"IL-4\":\n",
    "        ls = \"--\"\n",
    "    elif cyt == \"IL-10\":\n",
    "        ls = \"-.\"\n",
    "    else:\n",
    "        ls = \"-\"\n",
    "    ax.plot(quintile_midpoints, quantile_snrs_grid2[i], color=cyt_palette[cyt], \n",
    "            ls=ls, lw=2., label=nice_cyto_labels[cyt], marker=markers[i], ms=5)\n",
    "#ax.axhline(1.0, ls=\"--\", lw=1., color=\"k\", zorder=1)\n",
    "#ax.set_yscale(\"log\")\n",
    "ax.set(xlabel=\"Quintile (#)\", ylabel=\"Signal-to-noise ratio\") #yscale=\"log\"\n",
    "ax.set_xticks(quintile_boundaries)\n",
    "ax.set_xticklabels([\"\"] + list(map(str, np.arange(1, len(quintile_boundaries)-1))) + [\"\"])\n",
    "leg = ax.legend(loc=\"upper left\", bbox_to_anchor=(1, 1), frameon=False)\n",
    "for obj in leg.get_lines():\n",
    "    obj.set_linewidth(1.5)\n",
    "fig.tight_layout()\n",
    "fig.subplots_adjust(right=0.7)\n",
    "#fig.savefig(os.path.join(main_dir_path, \"figures\", \"supp\", \"il4_il10_signal-snr_per_quantile.pdf\"), \n",
    "#    transparent=True, bbox_extra_artists=(leg,), bbox_inches=\"tight\")\n",
    "plt.show()\n",
    "plt.close()"
   ]
  },
  {
   "cell_type": "code",
   "execution_count": null,
   "metadata": {},
   "outputs": [],
   "source": [
    "# Ratio of cytokine SNRs in the top 20 % of values (i.e. for measurements above last quintile)\n",
    "# We find that IL-4 and IL-10 have a SNR at least four times lower than any other cytokine. \n",
    "# Actually, it's 4 times for IL-4 and 6 times for IL-10. \n",
    "print(\"IL-4:\", quantile_snrs_grid2[:, -1] / quantile_snrs_grid2[-2, -1])\n",
    "print(\"IL-10\", quantile_snrs_grid2[:, -1] / quantile_snrs_grid2[-1, -1])"
   ]
  },
  {
   "cell_type": "markdown",
   "metadata": {},
   "source": [
    "# Distribution of cytokines themselves\n",
    "The point of this figure is to show that cytokines distribute more evenly in logarithmic scale (i.e. across decades) than in linear scale. \n",
    "\n",
    "We only show the five cytokines that we did not discard. We sort cytokines in decreasing order of signal-to-noise ratio."
   ]
  },
  {
   "cell_type": "code",
   "execution_count": null,
   "metadata": {},
   "outputs": [],
   "source": [
    "fig, axes = plt.subplots(2, 5,  sharey=False)\n",
    "fig.set_size_inches(5*1.25, 2*1.5)\n",
    "df_plot_log = df_train_raw\n",
    "df_plot_lin = df_train_raw_linear\n",
    "\n",
    "cytos_ordered_logsnr = overall_snrs_log.index.get_level_values(\"Cytokine\").to_list()\n",
    "cytos_ordered_logsnr.remove(\"IL-10\")\n",
    "cytos_ordered_logsnr.remove(\"IL-4\")\n",
    "for i, cy in enumerate(cytos_ordered_logsnr[::-1]):\n",
    "    col = (\"concentration\", cy)\n",
    "    clr = cyt_palette[cy]\n",
    "    axes[0, i].hist(df_plot_lin[col], bins=20, color=clr, edgecolor=\"k\", linewidth=0.5)\n",
    "    axes[1, i].hist(df_plot_log[col], bins=20, color=clr, edgecolor=\"k\", linewidth=0.5)\n",
    "    if i == 0:\n",
    "        axes[0, 0].set_ylabel(\"Counts (#)\")\n",
    "        axes[1, 0].set_ylabel(\"Counts (#)\")\n",
    "    cy2 = nice_cyto_labels[cy]\n",
    "    axes[0, i].set_xlabel(\"[\" + cy2 + \"] (nM)\")\n",
    "    axes[1, i].set_xlabel(r\"log$_{10}$(\" + cy2 + \"/\" + cy2 + r\"$_{min}$)\")\n",
    "\n",
    "    if i == (5-1):\n",
    "        axes[0, i].annotate(\"Linear-scale\", xy=(1, 0.5), xytext=(1.2, 0.5), \n",
    "                       xycoords=\"axes fraction\", rotation=90, va=\"center\", ha=\"center\")\n",
    "        axes[1, i].annotate(\"Log-transformed\", xy=(1, 0.5), xytext=(1.2, 0.5), \n",
    "                       xycoords=\"axes fraction\", rotation=90, va=\"center\", ha=\"center\")\n",
    "\n",
    "fig.tight_layout(w_pad=0.5, h_pad=2.)\n",
    "# fig.savefig(os.path.join(main_dir_path, \"figures\", \"supp\", \n",
    "#    \"histogram_cytokine_data_linear_log_scales.pdf\"), transparent=True)\n",
    "plt.show()\n",
    "plt.close()"
   ]
  },
  {
   "cell_type": "code",
   "execution_count": null,
   "metadata": {},
   "outputs": [],
   "source": []
  }
 ],
 "metadata": {
  "kernelspec": {
   "display_name": "Python 3",
   "language": "python",
   "name": "python3"
  },
  "language_info": {
   "codemirror_mode": {
    "name": "ipython",
    "version": 3
   },
   "file_extension": ".py",
   "mimetype": "text/x-python",
   "name": "python",
   "nbconvert_exporter": "python",
   "pygments_lexer": "ipython3",
   "version": "3.7.6"
  }
 },
 "nbformat": 4,
 "nbformat_minor": 2
}
