{
 "cells": [
  {
   "cell_type": "markdown",
   "metadata": {},
   "source": [
    "# Supplementary panels about cytokine reconstruction\n",
    "\n",
    "To run this notebook, you need:\n",
    "- processed cytokine time series (default: NewPeptideComparison_20.hdf) in `data/processed/`;\n",
    "- weights of trained neural network in `data/trained-networks/`. \n",
    "- to have run `reconstruct_cytokines_fromLSdata.ipynb` with non-linear and linear reconstruction methods, and saved the results in `results/reconstruction/`; \n",
    "- to have run `generate_synthetic_data.ipynb` and have saved its results in `results/reconstruction`. "
   ]
  },
  {
   "cell_type": "code",
   "execution_count": null,
   "metadata": {},
   "outputs": [],
   "source": [
    "import numpy as np\n",
    "import pandas as pd\n",
    "import matplotlib.pyplot as plt\n",
    "import seaborn as sns\n",
    "\n",
    "import os, sys\n",
    "main_dir_path = os.path.abspath('../')\n",
    "sys.path.insert(0, main_dir_path)\n",
    "\n",
    "import utils.plotting_recon as pltrecon\n",
    "import utils.custom_pandas as custom_pd\n",
    "import utils.plotting_3d as plt3d\n",
    "from utils.recon_scaling import scale_back"
   ]
  },
  {
   "cell_type": "code",
   "execution_count": null,
   "metadata": {},
   "outputs": [],
   "source": [
    "%matplotlib inline\n",
    "plt.rcParams['savefig.transparent'] = True"
   ]
  },
  {
   "cell_type": "markdown",
   "metadata": {},
   "source": [
    "# 3D plots to show the 2D manifold\n",
    "And how it changes with different T cell numbers, experiments and cell types. "
   ]
  },
  {
   "cell_type": "code",
   "execution_count": null,
   "metadata": {},
   "outputs": [],
   "source": [
    "chosen_cytokines = [\"IFNg\", \"IL-2\", \"TNFa\"]\n",
    "proj_mat = np.load(os.path.join(main_dir_path, \"data\", \"trained-networks\", \n",
    "                            \"mlp_input_weights-thomasRecommendedTraining.npy\")).T\n",
    "dense_data = pd.read_hdf(os.path.join(main_dir_path, \"data\", \"processed\", \n",
    "                            \"PeptideComparison_4.hdf\"))\n",
    "dense_data = dense_data.loc[(\"100k\")]"
   ]
  },
  {
   "cell_type": "code",
   "execution_count": null,
   "metadata": {},
   "outputs": [],
   "source": [
    "feat = \"integral\"\n",
    "fig, ax = plt3d.cytokines_one_latent_plane(dense_data, \n",
    "            proj_mat, chosen_cytokines, feat=feat)\n",
    "\n",
    "ax.view_init(elev=30., azim=200)\n",
    "fig.set_size_inches(2.4, 2.4)\n",
    "fig.tight_layout()\n",
    "# fig.savefig(os.path.join(main_dir_path, \"figures\", \"supp\", \"3d_plot_{}_PeptideComparison20.pdf\".format(feat)), \n",
    "#        bbox_inches='tight')\n",
    "plt.show()\n",
    "plt.close()"
   ]
  },
  {
   "cell_type": "code",
   "execution_count": null,
   "metadata": {},
   "outputs": [],
   "source": [
    "feat = \"concentration\"\n",
    "fig, ax = plt3d.cytokines_one_latent_plane(dense_data, \n",
    "            proj_mat, chosen_cytokines, feat=feat)\n",
    "\n",
    "ax.view_init(elev=45., azim=230)\n",
    "fig.set_size_inches(2.4, 2.4)\n",
    "fig.tight_layout()\n",
    "# fig.savefig(os.path.join(main_dir_path, \"figures\", \"supp\", \"3d_plot_{}_PeptideComparison20.pdf\".format(feat)), \n",
    "#        bbox_inches='tight')\n",
    "plt.show()\n",
    "plt.close()"
   ]
  },
  {
   "cell_type": "markdown",
   "metadata": {},
   "source": [
    "## 3D plot for different T cell numbers and different experiments – removed from paper\n",
    "With different T cell numbers or experiments, the 2D manifold changes slightly. This makes cytokine reconstruction of all T cell numbers with the same coefficients impossible, and why reconstruction is never perfect on reconstruction optimization and test data (which must come from different experiments/replicates to avoid overfitting). "
   ]
  },
  {
   "cell_type": "code",
   "execution_count": null,
   "metadata": {},
   "outputs": [],
   "source": [
    "feat = \"integral\"\n",
    "dense_data2 = pd.read_hdf(os.path.join(main_dir_path, \"data\", \"processed\", \"TCellNumber_1.hdf\"))\n",
    "dense_data2 = pd.concat([dense_data2], names=[\"Data\"], keys=[\"PeptideComparison 20\"])\n",
    "fig, ax = plt3d.cytokines_dataset_tcellstate_planes(dense_data2, proj_mat, chosen_cytokines, \n",
    "                            hue_level=\"TCellNumber\", feat=\"integral\", \n",
    "                            init_view={\"azim\":0, \"elev\":20})\n",
    "\n",
    "fig.set_size_inches(2.4, 2.4)\n",
    "fig.tight_layout()\n",
    "# fig.savefig(os.path.join(main_dir_path, \"figures\", \"supp\", \"3d_plot_{}_TCellNumber_OT1_Timeseries_7.pdf\".format(feat)), \n",
    "#        bbox_inches='tight')\n",
    "plt.show()\n",
    "plt.close()"
   ]
  },
  {
   "cell_type": "code",
   "execution_count": null,
   "metadata": {},
   "outputs": [],
   "source": [
    "# Various experiments at 100K T cells\n",
    "foldr = os.path.join(main_dir_path, \"data\", \"processed\")\n",
    "dense_data2 = pd.concat(\n",
    "    [pd.read_hdf(os.path.join(foldr, \"PeptideComparison_4.hdf\")), \n",
    "     pd.read_hdf(os.path.join(foldr, \"PeptideComparison_3.hdf\")), \n",
    "     (pd.read_hdf(os.path.join(foldr, \"PeptideComparison_8.hdf\"))\n",
    "          .xs(\"100k\", level=\"TCellNumber\", drop_level=False))], \n",
    "    names=[\"Data\"], keys=[\"PeptideComparison_4\", \"PeptideComparison_3\", \"PeptideComparison_8\"])\n",
    "\n",
    "fig, ax = plt3d.cytokines_dataset_tcellstate_planes(dense_data2, proj_mat, chosen_cytokines, \n",
    "                            hue_level=\"TCellNumber\", feat=\"integral\", \n",
    "                            init_view={\"azim\":12, \"elev\":28})\n",
    "\n",
    "fig.set_size_inches(2.4, 2.4)\n",
    "fig.tight_layout()\n",
    "# fig.savefig(os.path.join(main_dir_path, \"figures\", \"supp\", \"3d_plot_{}_3dsets_comparison.pdf\".format(feat)), \n",
    "#        bbox_inches='tight')\n",
    "plt.show()\n",
    "plt.close()"
   ]
  },
  {
   "cell_type": "markdown",
   "metadata": {},
   "source": [
    "## Going back to $\\log_{10}$ scale for cytokine concentrations\n",
    "This is important so the y axes do not look arbitrary on the cytokine reconstruction plots. \n",
    "\n",
    "The transformation we need to undo is the following:\n",
    "```\n",
    "if typ == \"integral\":\n",
    "        df_wt[typ] = (df_wt[typ] - df_min)/(df_max - df_min)\n",
    "    else:   # for conc and deriv, the constant rescaling term disappears. \n",
    "        df_wt[typ] = df_wt[typ]/(df_max - df_min)\n",
    "```\n",
    "\n",
    "Reconstruct with the scaled data, because we learned quadratic coefficients for scaled data, and our latent space is scaled, but after reconstruction, scale back. "
   ]
  },
  {
   "cell_type": "code",
   "execution_count": null,
   "metadata": {},
   "outputs": [],
   "source": [
    "minmaxfile = os.path.join(main_dir_path, \"data\", \"trained-networks\", \"min_max-thomasRecommendedTraining.hdf\")\n",
    "df_min = pd.read_hdf(minmaxfile, key=\"df_min\")\n",
    "df_max = pd.read_hdf(minmaxfile, key=\"df_max\")\n",
    "df_min, df_max = df_min.xs(\"integral\", level=\"Feature\"), df_max.xs(\"integral\", level=\"Feature\")"
   ]
  },
  {
   "cell_type": "markdown",
   "metadata": {},
   "source": [
    "# Linear reconstruction\n",
    "Not using model curves yet; this is just (smoothed) data projected to latent space, and reconstructed back. \n",
    "\n",
    "## Load reconstruction and latent space (proj) data"
   ]
  },
  {
   "cell_type": "code",
   "execution_count": null,
   "metadata": {},
   "outputs": [],
   "source": [
    "fnames1 = os.path.join(main_dir_path, \"results\", \"reconstruction\", \"df_{}_linear_HighMI_1.hdf\")\n",
    "dflin_proj_train = pd.read_hdf(fnames1.format(\"proj\"), key=\"train\")\n",
    "dflin_proj_test = pd.read_hdf(fnames1.format(\"proj\"), key=\"test\")\n",
    "\n",
    "dflin_recon_train = scale_back(pd.read_hdf(fnames1.format(\"recon\"), key=\"train\"), \n",
    "                               df_min, df_max)\n",
    "dflin_recon_test = scale_back(pd.read_hdf(fnames1.format(\"recon\"), key=\"test\"), \n",
    "                              df_min, df_max)\n",
    "\n",
    "dflin_wt_train = scale_back(pd.read_hdf(fnames1.format(\"wt\"), key=\"train\"), \n",
    "                           df_min, df_max)\n",
    "dflin_wt_test = scale_back(pd.read_hdf(fnames1.format(\"wt\"), key=\"test\"), \n",
    "                           df_min, df_max)"
   ]
  },
  {
   "cell_type": "code",
   "execution_count": null,
   "metadata": {},
   "outputs": [],
   "source": [
    "print(dflin_wt_train.index.get_level_values(\"Concentration\").unique())"
   ]
  },
  {
   "cell_type": "code",
   "execution_count": null,
   "metadata": {},
   "outputs": [],
   "source": [
    "figdict = pltrecon.plot_recon_true(dflin_wt_test, dflin_recon_test, feature=\"concentration\", toplevel=\"Data\",\n",
    "    sharey=True, do_legend=True, pept=[\"N4\", \"A2\", \"Y3\", \"Q4\", \"T4\", \"V4\"])\n",
    "\n",
    "dset = \"HighMI_1-2\"\n",
    "leg = figdict[dset].legends[0]\n",
    "#figdict[dset].savefig(os.path.join(main_dir_path, \"figures\", \"supp\", \n",
    "#        \"supp_figure_linear_recon_concentrations_{}.pdf\".format(dset)), \n",
    "#        transparent=True, bbox_extra_artists=(leg,), bbox_inches='tight')"
   ]
  },
  {
   "cell_type": "markdown",
   "metadata": {},
   "source": [
    "# Accurate reconstruction\n",
    "$$ c_i = Q_{i1}n_1 + Q_{i2}n_2 + Q_{i3} n_1^2 + Q_{i4} n_2^2 + Q_{i5} n_1 n_2 + Q_{i6} N_1 + Q_{i7} N_2 $$"
   ]
  },
  {
   "cell_type": "code",
   "execution_count": null,
   "metadata": {},
   "outputs": [],
   "source": [
    "fnames2 = os.path.join(main_dir_path, \"results\", \"reconstruction\", \n",
    "                       \"df_{}_nonlinear_HighMI_1.hdf\")\n",
    "dfacc_proj_train = pd.read_hdf(fnames2.format(\"proj\"), key=\"train\")\n",
    "dfacc_proj_test = pd.read_hdf(fnames2.format(\"proj\"), key=\"test\")\n",
    "\n",
    "dfacc_recon_train = scale_back(pd.read_hdf(fnames2.format(\"recon\"), key=\"train\"), \n",
    "                               df_min, df_max)\n",
    "dfacc_recon_test = scale_back(pd.read_hdf(fnames2.format(\"recon\"), key=\"test\"), \n",
    "                              df_min, df_max)\n",
    "\n",
    "dfacc_wt_train = scale_back(pd.read_hdf(fnames2.format(\"wt\"), key=\"train\"), \n",
    "                            df_min, df_max)\n",
    "dfacc_wt_test = scale_back(pd.read_hdf(fnames2.format(\"wt\"), key=\"test\"), \n",
    "                           df_min, df_max)"
   ]
  },
  {
   "cell_type": "code",
   "execution_count": null,
   "metadata": {},
   "outputs": [],
   "source": [
    "figdict_acc = pltrecon.plot_recon_true(dfacc_wt_test, dfacc_recon_test, \n",
    "                    feature=\"concentration\", toplevel=\"Data\", \n",
    "                    sharey=True, do_legend=True, pept=[\"N4\", \"A2\", \"Y3\", \"Q4\", \"T4\", \"V4\"])\n",
    "\n",
    "dset = \"HighMI_1-2\"\n",
    "leg = figdict_acc[dset].legends[0]\n",
    "#figdict_acc[dset].savefig(os.path.join(main_dir_path, \"figures\", \"supp\", \n",
    "#        \"supp_figure_include-integrals_recon_concentrations_{}.pdf\".format(dset)), \n",
    "#         transparent=True, bbox_extra_artists=(leg,), bbox_inches='tight')"
   ]
  },
  {
   "cell_type": "markdown",
   "metadata": {},
   "source": [
    "# Reconstruction residuals\n",
    "Probably just a small plot of the average residuals across all peptides? Or a distribution of residuals, like min, max, average, and std or median?  "
   ]
  },
  {
   "cell_type": "code",
   "execution_count": null,
   "metadata": {},
   "outputs": [],
   "source": [
    "dflin_residuals_test = (dflin_wt_test.loc[:, \"concentration\"] - dflin_recon_test)\n",
    "dflin_residuals_train = (dflin_wt_train.loc[:, \"concentration\"] - dflin_recon_train)\n",
    "dfacc_residuals_test = (dfacc_wt_test.loc[:, \"concentration\"] - dfacc_recon_test)\n",
    "dfacc_residuals_train = (dfacc_wt_train.loc[:, \"concentration\"] - dfacc_recon_train)"
   ]
  },
  {
   "cell_type": "code",
   "execution_count": null,
   "metadata": {
    "scrolled": false
   },
   "outputs": [],
   "source": [
    "# Averaged over the reconstructed data sets. \n",
    "fig, axes, axleg = pltrecon.plot_residuals_summary([dflin_residuals_test[\"concentration\"], \n",
    "                        dfacc_residuals_test[\"concentration\"]], \n",
    "                        [\"Linear\", \"Accurate\"], sharey_all=True, legend_loc=\"side\")\n",
    "# fig.savefig(\"panels_recon/residuals_reconstruction_summary_HighMI_1.pdf\", transparent=True, bbox_inches=\"tight\")"
   ]
  },
  {
   "cell_type": "markdown",
   "metadata": {
    "scrolled": true
   },
   "source": [
    "### Model+reconstruction residuals on cytokine data\n",
    "See the Google Colab notebook for main figure 3A, where the p-values are computed. The residuals plot will be a pretext to explain in a caption the p-values meaning and how they were computed. "
   ]
  },
  {
   "cell_type": "markdown",
   "metadata": {},
   "source": [
    "## Hausdorff dimension of the 2D manifold\n",
    "See separate Python script. "
   ]
  },
  {
   "cell_type": "markdown",
   "metadata": {},
   "source": [
    "# Synthetic data from sampled parameters\n",
    "\n",
    "### Note: to run this part, need to run `generate_synthetic_data.ipynb` and save its results first\n",
    " \n",
    "Specifically, objects that need to be available for import:\n",
    "- df_params_synth_sigmoid_freealpha_selectdata.hdf\n",
    "- df_recon_synth_sigmoid_freealpha_selectdata.hdf\n",
    "- quadratic_tanh_pipeline_selectdata.pkl\n",
    "- scalerkde_dict_sigmoid_freealpha_selectdata.pkl\n",
    "- ser_v2v1_synth_selectdata.hdf\n",
    "- tanh_norm_factors_integrals_selectdata.pkl\n",
    "- v2v1_kde_sigmoid_freealpha_selectdata.pkl"
   ]
  },
  {
   "cell_type": "code",
   "execution_count": null,
   "metadata": {},
   "outputs": [],
   "source": [
    "# Import the necessary scripts.\n",
    "from ltspcyt.scripts.reconstruction import ScalerKernelDensity, QuadraticRegression\n",
    "from sklearn.pipeline import Pipeline\n",
    "from sklearn.preprocessing import MinMaxScaler, StandardScaler\n",
    "from sklearn.model_selection import GridSearchCV\n",
    "from sklearn.neighbors import KernelDensity\n",
    "import pickle"
   ]
  },
  {
   "cell_type": "code",
   "execution_count": null,
   "metadata": {},
   "outputs": [],
   "source": [
    "# Import the relevant objects. \n",
    "option = \"selectdata\"  # \"HighMI_1\"\n",
    "folder = os.path.join(main_dir_path, \"results\", \"reconstruction\")\n",
    "with open(os.path.join(folder, \"scalerkde_dict_sigmoid_freealpha_{}.pkl\".format(option)), \"rb\") as hd:\n",
    "    scaler_kdes_dict = pickle.load(hd)\n",
    "\n",
    "# We might want to plot the regression coefficients as a heatmap?\n",
    "with open(os.path.join(folder, \"quadratic_tanh_pipeline_{}.pkl\".format(option)), \"rb\") as hd:\n",
    "    pipe = pickle.load(hd)\n",
    "\n",
    "df_params_synth = pd.read_hdf(os.path.join(folder, \"df_params_synth_sigmoid_freealpha_{}.hdf\".format(option)))\n",
    "df_recon_synth = scale_back( \n",
    "    pd.read_hdf(os.path.join(folder, \"df_recon_synth_sigmoid_freealpha_{}.hdf\".format(option))), \n",
    "    df_min, df_max)\n",
    "df_latent_synth = pd.read_hdf(os.path.join(folder, \"df_latent_synth_sigmoid_freealpha_{}.hdf\".format(option)))"
   ]
  },
  {
   "cell_type": "markdown",
   "metadata": {},
   "source": [
    "### Kernel densities"
   ]
  },
  {
   "cell_type": "code",
   "execution_count": null,
   "metadata": {},
   "outputs": [],
   "source": [
    "times = list(map(float, df_latent_synth.index.get_level_values(\"Time\").unique()))\n",
    "times = np.sort(np.asarray(times))\n",
    "peps_to_plot = [\"N4\", \"A2\", \"Y3\", \"Q4\", \"T4\", \"V4\", \"E1\"]\n",
    "peps_color_order = [\"N4\", \"Q4\", \"T4\", \"V4\", \"G4\", \"E1\", \"A2\", \"Y3\", \"A8\", \"Q7\"]\n",
    "peps_colors = {peps_color_order[i]:sns.color_palette()[i] for i in range(len(peps_color_order))}\n",
    "peps_palette = {a:peps_colors[a] for a in peps_to_plot}\n",
    "replic_choice = \"2\""
   ]
  },
  {
   "cell_type": "code",
   "execution_count": null,
   "metadata": {},
   "outputs": [],
   "source": [
    "fig, [axes, axleg, leg] = pltrecon.pairplot_scalerkdes(\n",
    "                            {p:scaler_kdes_dict[p] for p in peps_to_plot}, peps_to_plot, df_params_synth.columns,\n",
    "                            hues=peps_palette, do_leg=True, res=31, plot_type=\"fill\", fontsize=8)\n",
    "# Fix some xticks\n",
    "for i in range(len(axes)):\n",
    "    axes[i][0].set_xticks([0, 2, 4])\n",
    "for i in range(1, len(axes)):\n",
    "    axes[i][1].set_xticks([0, 2, 4])\n",
    "for i in range(2, len(axes)):\n",
    "    axes[i][2].set_xticks([-np.pi/2, 0, np.pi/3])\n",
    "axes[-1][2].set_xticklabels([r\"$-\\pi/2$\", r\"$0$\", r\"$\\pi/3$\"])\n",
    "\n",
    "fig.set_size_inches(4., 4.)\n",
    "fig.tight_layout(h_pad=0.1, w_pad=0.1)\n",
    "fig.savefig(os.path.join(main_dir_path, \"figures\", \"supp\", \"kdes_for_data_generation_{}.pdf\".format(option)), \n",
    "                transparent=True, bbox_inches=\"tight\")\n",
    "plt.show()\n",
    "plt.close()"
   ]
  },
  {
   "cell_type": "markdown",
   "metadata": {},
   "source": [
    "### Latent space trajectories thus generated\n",
    "Maybe also plot tanh of integrals, just to see what that looks like? \n",
    "A column of 2 or 4 plots.  "
   ]
  },
  {
   "cell_type": "code",
   "execution_count": null,
   "metadata": {},
   "outputs": [],
   "source": [
    "fig, axes = plt.subplots(4, 1, sharex=True)\n",
    "\n",
    "feats = [(\"concentration\", \"Node 1\"), (\"concentration\", \"Node 2\"), \n",
    "        (\"tanh integral\", \"Node 1\"), (\"tanh integral\", \"Node 2\")]\n",
    "# For each peptide, plot the 4 quantities\n",
    "for pep in peps_to_plot:\n",
    "    labels = [pep] + [None]*3\n",
    "    for i in range(4):\n",
    "        y = df_latent_synth.loc[(pep, replic_choice, times), feats[i]].values\n",
    "        axes[i].plot(times, y, color=peps_palette[pep], lw=2., label=labels[i], zorder=len(peps_palette)-peps_to_plot.index(pep))\n",
    "\n",
    "# Label the y axes\n",
    "for i, ylbl in enumerate([\"n_1(t)\", \"n_2(t)\", r\"\\tanh [N_1(t)\\,/\\,\\bar{N}_1]\", r\"\\tanh [N_2(t)\\,/\\,\\bar{N}_2]\"]):\n",
    "    axes[i].set_ylabel(r\"${}$\".format(ylbl), size=8)\n",
    "    axes[i].tick_params(axis=\"both\", labelsize=7, width=1., length=3.)\n",
    "\n",
    "# Add a legend: not necessary, there is already one for the KDEs\n",
    "#fig.legend(*axes[0].get_legend_handles_labels(), loc=\"upper left\", bbox_to_anchor=(0.95, 0.98), fontsize=7)\n",
    "fig.set_size_inches(2., 4.)\n",
    "fig.tight_layout()\n",
    "\n",
    "fig.savefig(os.path.join(main_dir_path, \"figures\", \"supp\", \n",
    "        \"latentspace_data_generation_replicate{}_{}.pdf\".format(replic_choice, option)), \n",
    "         bbox_inches=\"tight\", transparent=True)\n",
    "plt.show()\n",
    "plt.close()"
   ]
  },
  {
   "cell_type": "markdown",
   "metadata": {},
   "source": [
    "### Cytokine trajectories thus generated\n",
    "Each cytokine in a column, all peptides in the same row of plots. So it's a single row of five plots. "
   ]
  },
  {
   "cell_type": "code",
   "execution_count": null,
   "metadata": {},
   "outputs": [],
   "source": [
    "print(df_recon_synth)"
   ]
  },
  {
   "cell_type": "code",
   "execution_count": null,
   "metadata": {},
   "outputs": [],
   "source": [
    "# For each peptide, plot the 4 quantities\n",
    "fig, axes = plt.subplots(1, 5, sharex=True, sharey=True)\n",
    "\n",
    "conc_choice = [\"1uM\", \"100nM\", \"10nM\", \"1nM\"][int(replic_choice)]\n",
    "cytokines = [\"IFNg\", \"IL-2\", \"IL-17A\", \"IL-6\", \"TNFa\"]\n",
    "cytokines_nice = [r\"IFN-$\\gamma$\", \"IL-2\", \"IL-17A\", \"IL-6\", \"TNF\"]\n",
    "for pep in peps_to_plot:\n",
    "    labels = [pep] + [None]*(len(cytokines)-1)\n",
    "    for i in range(len(cytokines)):\n",
    "        y = df_recon_synth.loc[(pep, conc_choice, times), (\"concentration\", cytokines[i])].values\n",
    "        axes[i].plot(times, y, color=peps_palette[pep], lw=2., label=labels[i], zorder=len(peps_palette)-peps_to_plot.index(pep))\n",
    "\n",
    "# Label the y axes\n",
    "for i, ylbl in enumerate(cytokines_nice):\n",
    "    axes[i].set_title(ylbl, size=8)\n",
    "    axes[i].tick_params(axis=\"both\", labelsize=7, width=1., length=3.)\n",
    "\n",
    "axes[0].set_ylabel(r\"$\\log_{10}$(cyto)\", size=8)\n",
    "for i in range(1, len(cytokines)):\n",
    "    axes[i].set_ylabel(\"\")\n",
    "    \n",
    "for i in range(len(cytokines)):\n",
    "    axes[i].set_xlabel(\"Time [h]\", size=8)\n",
    "\n",
    "# Add a legend: not necessary, there is already one for the KDEs\n",
    "#fig.legend(*axes[0].get_legend_handles_labels(), loc=\"upper left\", bbox_to_anchor=(0.95, 0.98), fontsize=7)\n",
    "fig.set_size_inches(6., 1.5)\n",
    "fig.tight_layout()\n",
    "\n",
    "fig.savefig(os.path.join(main_dir_path, \"figures\", \"supp\", \n",
    "        \"generated_cytokines_replicate{}_{}.pdf\".format(replic_choice, option)), \n",
    "          bbox_inches=\"tight\", transparent=True)\n",
    "plt.show()\n",
    "plt.close()"
   ]
  },
  {
   "cell_type": "code",
   "execution_count": null,
   "metadata": {},
   "outputs": [],
   "source": []
  }
 ],
 "metadata": {
  "kernelspec": {
   "display_name": "Python 3",
   "language": "python",
   "name": "python3"
  },
  "language_info": {
   "codemirror_mode": {
    "name": "ipython",
    "version": 3
   },
   "file_extension": ".py",
   "mimetype": "text/x-python",
   "name": "python",
   "nbconvert_exporter": "python",
   "pygments_lexer": "ipython3",
   "version": "3.7.6"
  }
 },
 "nbformat": 4,
 "nbformat_minor": 4
}
