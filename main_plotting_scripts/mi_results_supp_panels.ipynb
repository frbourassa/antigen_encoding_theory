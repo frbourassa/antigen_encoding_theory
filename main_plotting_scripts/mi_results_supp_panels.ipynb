{
 "cells": [
  {
   "cell_type": "markdown",
   "metadata": {},
   "source": [
    "# Supplementary figure panels related to mutual information\n",
    "\n",
    "To run this notebook, you need:\n",
    "- Table of antigen EC$_{50}$s in a JSON file in `data/misc/`\n",
    "- To have run `more_main_scripts/bootstrap_interpol_capacity.py`, `more_main_scripts/estimate_channel_capacity_cce.ipynb`, and `theoretical_antigen_classes_from_capacity_HighMI_3.ipynb` and saved their results in the folders `results/capacity/` (channel capacity results) and `results/fits/` (model parameter fits).  \n",
    "\n",
    "\n",
    "Other MI-related panels are created by `main_plotting_scripts/peptide_channel_diagrams.py` and `theoretical_antigen_classes_from_capacity_HighMI_3.ipynb` directly. \n",
    "\n"
   ]
  },
  {
   "cell_type": "code",
   "execution_count": null,
   "metadata": {},
   "outputs": [],
   "source": [
    "import numpy as np\n",
    "import scipy as sp\n",
    "from scipy.interpolate import UnivariateSpline, PchipInterpolator\n",
    "import pandas as pd\n",
    "import matplotlib.pyplot as plt\n",
    "import seaborn as sns\n",
    "import pickle\n",
    "import json\n",
    "\n",
    "import os, sys\n",
    "main_dir_path = os.path.abspath('../')\n",
    "sys.path.insert(0, main_dir_path)\n",
    "\n",
    "#from utils.distrib_interpolation import (eval_interpolated_means_covs, interpolate_params_vs_logec50, \n",
    "#                                         stats_per_levels, compute_cholesky_dataframe)\n",
    "import utils.custom_pandas as custom_pd\n",
    "from utils.extra_pairplots import dual_pairplot\n",
    "from utils.plotting_mi import plot_params_vs_logec50\n",
    "from utils.statistics import build_symmetric"
   ]
  },
  {
   "cell_type": "code",
   "execution_count": null,
   "metadata": {},
   "outputs": [],
   "source": [
    "%matplotlib inline"
   ]
  },
  {
   "cell_type": "code",
   "execution_count": null,
   "metadata": {},
   "outputs": [],
   "source": [
    "#plt.rcParams[\"figure.figsize\"] = (2.25, 1.75)\n",
    "plt.rcParams[\"axes.labelsize\"] = 8.\n",
    "plt.rcParams[\"legend.fontsize\"] = 8.\n",
    "plt.rcParams[\"axes.labelpad\"] = 0.5\n",
    "plt.rcParams[\"xtick.labelsize\"] = 7.\n",
    "plt.rcParams[\"ytick.labelsize\"] = 7.\n",
    "plt.rcParams[\"legend.title_fontsize\"] = 8.\n",
    "plt.rcParams[\"axes.titlesize\"] = 8.\n",
    "plt.rcParams[\"font.size\"] = 8.\n",
    "plt.rcParams[\"figure.dpi\"] = 160"
   ]
  },
  {
   "cell_type": "markdown",
   "metadata": {},
   "source": [
    "# Figure comparing fitted multivariate normal distributions to data\n",
    "\n",
    "### Note: this figure is also produced directly in `compute_channel_capacity_HighMI_3.ipynb`\n"
   ]
  },
  {
   "cell_type": "code",
   "execution_count": null,
   "metadata": {},
   "outputs": [],
   "source": [
    "foldr = os.path.join(main_dir_path, \"results\", \"fits\")\n",
    "df_params = pd.read_hdf(os.path.join(foldr, \"df_params_Sigmoid_freealpha_HighMI_3.hdf\"))\n",
    "foldr = os.path.join(main_dir_path, \"results\", \"capacity\")\n",
    "suffix = \"highmi3_Sigmoid_freealpha.hdf\"\n",
    "df_params_means = pd.read_hdf(os.path.join(foldr, \"df_params_means_{}\".format(suffix)))\n",
    "\n",
    "df_params_means_estim_vari = pd.read_hdf(os.path.join(foldr, \"df_params_means_estim_vari_{}\".format(suffix)))\n",
    "df_params_covs = pd.read_hdf(os.path.join(foldr, \"df_params_covs_{}\".format(suffix)))\n",
    "df_params_covs_estim_vari = pd.read_hdf(os.path.join(foldr, \"df_params_covs_estim_vari_{}\".format(suffix)))\n",
    "ser_npts = pd.read_hdf(os.path.join(foldr, \"ser_npts_{}\".format(suffix)))\n",
    "\n",
    "# Also, the Cholesky decomposition\n",
    "df_params_chol = pd.read_hdf(os.path.join(foldr, \"df_params_chol_{}\".format(suffix)))\n",
    "df_params_chol_estim_vari = pd.read_hdf(os.path.join(foldr, \"df_params_chol_estim_vari_{}\".format(suffix)))"
   ]
  },
  {
   "cell_type": "code",
   "execution_count": null,
   "metadata": {},
   "outputs": [],
   "source": [
    "df_ec50s = pd.read_json(os.path.join(main_dir_path, \"data\", \"misc\", \"potencies_df_2021.json\"))\n",
    "df_ec50s.columns.name = \"Reference\"; df_ec50s.index.name = \"Peptide\"\n",
    "ser_ec50s_avglog = np.log10(df_ec50s).mean(axis=1)\n",
    "print(ser_ec50s_avglog)"
   ]
  },
  {
   "cell_type": "code",
   "execution_count": null,
   "metadata": {},
   "outputs": [],
   "source": [
    "nsamples = 40\n",
    "seed = 1357642\n",
    "params_to_keep = [\"a0\", \"tau0\", \"theta\"]\n",
    "levels_group = [\"Peptide\"]\n",
    "rnd_gen = np.random.default_rng(seed=seed)\n",
    "if len(levels_group) == 1:\n",
    "    new_index = pd.MultiIndex.from_product([df_params_means.index] + [range(nsamples)], \n",
    "                                      names=[df_params_means.index.name, \"Sample\"])\n",
    "else:\n",
    "    new_index = pd.MultiIndex.from_product([*zip(*df_params_means.index)] + [range(nsamples)], \n",
    "                                      names=[df_params_means.index.names] + [\"Sample\"])\n",
    "df_params_synth = pd.DataFrame(index=new_index, columns=params_to_keep, dtype=np.float64)\n",
    "df_params_synth.columns.name = \"Parameter\"\n",
    "\n",
    "# Sample from the fitted gaussians\n",
    "for key in df_params_means.index:\n",
    "    cov_mat = build_symmetric(df_params_covs.loc[key].values)\n",
    "    mean_vec = df_params_means.loc[key].values\n",
    "    df_params_synth.loc[key] = rnd_gen.multivariate_normal(mean_vec, cov_mat, nsamples)"
   ]
  },
  {
   "cell_type": "code",
   "execution_count": null,
   "metadata": {},
   "outputs": [],
   "source": [
    "params_remove = list(set(df_params.index.names).difference(levels_group))\n",
    "params_remove.remove(\"TCellNumber\")\n",
    "df_params_both = df_params.xs(\"30k\", level=\"TCellNumber\", axis=0).droplevel(params_remove).sort_index()\n",
    "\n",
    "df_params_both = df_params_both.loc[:, params_to_keep[0]:params_to_keep[-1]]\n",
    "print(df_params_both.groupby(levels_group).count().values)\n",
    "\n",
    "idx = np.concatenate([np.arange(n) for n in df_params_both.groupby(levels_group).count().sort_index().values[:, 0]])\n",
    "df_params_both[\"Sample\"] = idx\n",
    "df_params_both = df_params_both.set_index(\"Sample\", append=True)\n",
    "df_params_both = pd.concat([df_params_both, df_params_synth], axis=1, keys=[\"Data\", \"Synth\"], names=[\"Source\", \"Parameter\"])\n",
    "df_params_both = df_params_both.stack(\"Source\")\n",
    "print(df_params_both)"
   ]
  },
  {
   "cell_type": "code",
   "execution_count": null,
   "metadata": {},
   "outputs": [],
   "source": [
    "# Improve parameter labels\n",
    "rename_dict = {\"theta\":r\"$\\theta$\", \"a0\": r\"$a_0$\", \"t0\": r\"$t_0$\", \"tau0\":r\"$\\tau_0$\"}\n",
    "params_to_keep2 = [rename_dict[a] for a in params_to_keep]\n",
    "peptides = [\"N4\", \"Q4\", \"A2\", \"Y3\", \"T4\", \"V4\", \"G4\", \"E1\"]\n",
    "pep_color_order = [\"N4\", \"Q4\", \"T4\", \"V4\", \"G4\", \"E1\", \"A2\", \"Y3\", \"A8\", \"Q7\"]\n",
    "pep_palette = {pep_color_order[i]:sns.color_palette()[i] for i in range(len(pep_color_order))}\n",
    "palette_order = [pep_palette.get(a) for a in peptides]"
   ]
  },
  {
   "cell_type": "code",
   "execution_count": null,
   "metadata": {},
   "outputs": [],
   "source": [
    "## NOTE: this figure is also produced directly in \n",
    "df_params_plot = custom_pd.xs_slice(df_params_both.rename(rename_dict, axis=1, level=\"Parameter\"), \n",
    "                    name=\"Peptide\", lvl_slice=peptides, axis=0).reset_index()\n",
    "\n",
    "# Pairplot with reflection across the diagonal to compare synthetic vs data distributions\n",
    "fig, axes, leg = dual_pairplot(data=df_params_plot, vari=params_to_keep2, \n",
    "    dual_lvl=\"Source\", dual_labels=[\"Data\", \"Synthetic\"], \n",
    "    dual_hues = [(0.5, 0.5, 0.5), plt.cm.viridis([206])[0]], palette=palette_order,\n",
    "    hue=\"Peptide\", hue_order=peptides, alpha=0.8, s=9, edgecolors=None)\n",
    "\n",
    "# Clean up layout\n",
    "fig.set_size_inches(4.75, 4.75)\n",
    "fig.tight_layout(h_pad=0.5, w_pad=0.65)\n",
    "\n",
    "# Uncomment to save supplementary figure\n",
    "fig.savefig(os.path.join(main_dir_path, \"figures\", \"capacity\", \n",
    "    \"pairplot_synthreal_dual_Sigmoid_freealpha_HighMI_3.pdf\"), transparent=True, \n",
    "    bbox_extra_artists=(leg,), bbox_inches='tight', format=\"pdf\")\n",
    "plt.show()\n",
    "plt.close()"
   ]
  },
  {
   "cell_type": "markdown",
   "metadata": {},
   "source": [
    "# Figure showing interpolation of multivariate normal distribution parameters"
   ]
  },
  {
   "cell_type": "code",
   "execution_count": null,
   "metadata": {},
   "outputs": [],
   "source": [
    "with open(os.path.join(main_dir_path, \"results\", \"capacity\", \"ser_splines_means_capacity.pkl\"), \"rb\") as hd:\n",
    "    ser_splines_means = pd.Series(pickle.load(hd))\n",
    "with open(os.path.join(main_dir_path, \"results\", \"capacity\", \"ser_splines_chol_capacity.pkl\"), \"rb\") as hd:\n",
    "    ser_splines_chol = pd.Series(pickle.load(hd))\n",
    "ser_splines_means.index.name = \"Parameter\"\n",
    "ser_splines_chol.index.name = \"Parameter\""
   ]
  },
  {
   "cell_type": "code",
   "execution_count": null,
   "metadata": {},
   "outputs": [],
   "source": [
    "# Plot the interpolation of the means versus the data\n",
    "df_params_plot = df_params_means.rename(rename_dict, axis=1, level=\"Mean element\")\n",
    "df_params_vari_plot = df_params_means_estim_vari.rename(rename_dict, axis=1, level=\"Var[Mean estimator]\")\n",
    "ser_splines_plot = ser_splines_means.rename(rename_dict, level=\"Parameter\")\n",
    "\n",
    "# Create a full subplots grid so all subplots will line up nicely in the end\n",
    "fig, axes = plt.subplots(3, 3, sharey=False)\n",
    "fig.set_size_inches(4.75, 4.5)\n",
    "\n",
    "fig, axes_m = plot_params_vs_logec50(df_params_plot, df_params_vari_plot, ser_ec50s_avglog, \n",
    "                ser_interp=ser_splines_plot, cols_plot=None, x_name=\"Peptide\", col_wrap=3, figax=[fig, axes[0]])\n",
    "for ax in axes_m:  # 3 is col_wrap\n",
    "    ax.set_xlabel(r\"$\\log_{10}{\\mathrm{EC}_{50}}$ [-]\")\n",
    "\n",
    "# Uncomment to save figure\n",
    "fig.tight_layout(w_pad=0.5)\n",
    "fig.savefig(os.path.join(main_dir_path, \"figures\", \"capacity\", \n",
    "    \"mean_vs_logec50_Sigmoid_freealpha_HighMI_3.pdf\"), transparent=True, bbox_inches=\"tight\")\n",
    "\n",
    "# Second part of the plot: Cholesky elements\n",
    "rename_dict2 = {\"a0*a0\":r\"Chol[$a_0, a_0$]\", \"tau0*a0\":r\"Chol[$\\tau_0, a_0$]\", \"theta*a0\":r\"Chol[$\\theta, a_0$]\", \n",
    "               \"tau0*tau0\":r\"Chol[$\\tau_0, \\tau_0$]\", \"theta*tau0\":r\"Chol[$\\theta, \\tau_0$]\", \n",
    "                \"theta*theta\":r\"Chol[$\\theta, \\theta$]\"}\n",
    "df_params_plot = df_params_chol.rename(rename_dict2, axis=1, level=\"Cholesky element\")\n",
    "df_params_vari_plot = df_params_chol_estim_vari.rename(rename_dict2, axis=1, level=\"Var[Chol estimator]\")\n",
    "ser_splines_plot = ser_splines_chol.rename(rename_dict2, level=\"Parameter\")\n",
    "\n",
    "fig, axes_c = plot_params_vs_logec50(df_params_plot, df_params_vari_plot, ser_ec50s_avglog, \n",
    "                ser_interp=ser_splines_plot, cols_plot=None, x_name=\"Peptide\", col_wrap=3, figax=[fig, axes[1:]])\n",
    "for ax in axes_c:  # 3 is col_wrap\n",
    "    ax.set_xlabel(r\"$\\log_{10}{\\mathrm{EC}_{50}}$ [-]\")\n",
    "\n",
    "fig.tight_layout(w_pad=0.5)\n",
    "\n",
    "# Uncomment to save figure\n",
    "fig.savefig(os.path.join(main_dir_path, \"figures\", \"capacity\", \n",
    "            \"means_cholesky_vs_logec50_Sigmoid_freealpha_HighMI_3.pdf\"), \n",
    "            transparent=True, bbox_inches=\"tight\")\n",
    "plt.show()\n",
    "plt.close()"
   ]
  },
  {
   "cell_type": "markdown",
   "metadata": {},
   "source": [
    "# Optimal distribution from CCE algorithm\n",
    "\n",
    "#### Need to run `more_main_scripts/estimate_channel_capacity_cce.ipynb` and save the results before creating this panel. "
   ]
  },
  {
   "cell_type": "code",
   "execution_count": null,
   "metadata": {},
   "outputs": [],
   "source": [
    "## CHANGE THE DATE to when you executed that code and saved the result. \n",
    "with open(os.path.join(main_dir_path, \"results\", \"capacity\", \n",
    "            \"cce_run_log_8ins_rtol4e-02_TCN30k_03-dec-2021.json\"), \"r\") as hd:\n",
    "    cce_run = json.load(hd)"
   ]
  },
  {
   "cell_type": "code",
   "execution_count": null,
   "metadata": {},
   "outputs": [],
   "source": [
    "fig, ax = plt.subplots()\n",
    "width = np.amin(np.abs(np.diff(cce_run[\"input_values\"])))/2\n",
    "ax.bar(cce_run[\"input_values\"], cce_run[\"optim_input_distrib\"], width=width, \n",
    "       color=\"xkcd:grey blue\", edgecolor=\"k\", linewidth=0.8)\n",
    "\n",
    "# Labeling axes\n",
    "ax.set_xticks(cce_run[\"input_values\"])\n",
    "ax.set_xticklabels(cce_run[\"input_peptides\"])\n",
    "ax.set_xlabel(r\"$\\log_{10}{(\\mathrm{EC}_{50})}$\", size=8)\n",
    "ax.set_ylabel(\"P(EC$_{50}$)\", size=8)\n",
    "ax.tick_params(which=\"both\", labelsize=6)\n",
    "ax.annotate(r\"$C = ({:.1f} \\pm {:.1f})$ bits\".format(cce_run[\"capacity_bits\"], 0.04*cce_run[\"capacity_bits\"]), \n",
    "            xy=(0.12, 0.85), xycoords=\"axes fraction\", size=7)\n",
    "\n",
    "# Invert EC50 axis to have N4 on the right\n",
    "ax.invert_xaxis()\n",
    "\n",
    "fig.set_size_inches(2.25, 2.)\n",
    "fig.tight_layout()\n",
    "\n",
    "plt.show()\n",
    "plt.close()"
   ]
  },
  {
   "cell_type": "code",
   "execution_count": null,
   "metadata": {},
   "outputs": [],
   "source": []
  }
 ],
 "metadata": {
  "kernelspec": {
   "display_name": "Python 3",
   "language": "python",
   "name": "python3"
  },
  "language_info": {
   "codemirror_mode": {
    "name": "ipython",
    "version": 3
   },
   "file_extension": ".py",
   "mimetype": "text/x-python",
   "name": "python",
   "nbconvert_exporter": "python",
   "pygments_lexer": "ipython3",
   "version": "3.7.6"
  }
 },
 "nbformat": 4,
 "nbformat_minor": 4
}
