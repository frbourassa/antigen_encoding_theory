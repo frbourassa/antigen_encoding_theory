{
 "cells": [
  {
   "cell_type": "markdown",
   "metadata": {},
   "source": [
    "# Supplementary panels showing how latent space models fit data\n",
    "\n",
    "To run this notebook, you need:\n",
    "- To have run `fit_latentspace_models.ipynb` for each model and saved the results in `results/fits/`"
   ]
  },
  {
   "cell_type": "code",
   "execution_count": null,
   "metadata": {},
   "outputs": [],
   "source": [
    "import numpy as np\n",
    "import pandas as pd\n",
    "import matplotlib.pyplot as plt\n",
    "import seaborn as sns\n",
    "\n",
    "import os, sys\n",
    "main_dir_path = os.path.abspath('../')\n",
    "sys.path.insert(0, main_dir_path)\n",
    "\n",
    "from utils.plotting_fits import (add_hue_size_style_legend, timecourse_smallplots, \n",
    "    latentspace_smallplot, barplots_levels, paramspace_smallplots, create_cmap_seed, \n",
    "    create_midseeded_clist, add_legend_subtitles_huemaps)\n",
    "import utils.custom_pandas as custom_pd"
   ]
  },
  {
   "cell_type": "code",
   "execution_count": null,
   "metadata": {},
   "outputs": [],
   "source": [
    "# rcParams for all plots\n",
    "plt.rcParams['savefig.transparent'] = True\n",
    "\n",
    "param_formatting_dict = {\n",
    "    \"theta\": r\"\\theta\", \n",
    "    \"vt\": r\"v_{t2}\", \n",
    "    \"t0\": r\"t_0\", \n",
    "    \"v0\": r\"v_0\", \n",
    "    \"a0\": r\"a_0\", \n",
    "    \"v1\": r\"v_{t1}\", \n",
    "    \"alpha\": r\"\\alpha\", \n",
    "    \"beta\": r\"\\beta\", \n",
    "    \"gamma\": r\"\\gamma\",\n",
    "}"
   ]
  },
  {
   "cell_type": "markdown",
   "metadata": {},
   "source": [
    "# Constant velocity model\n",
    "Show $N_i(t)$, $N_1$ vs $N_2$, $n_i(t)$. \n",
    "Also show parameter space."
   ]
  },
  {
   "cell_type": "code",
   "execution_count": null,
   "metadata": {},
   "outputs": [],
   "source": [
    "plots_height = 2.1\n",
    "plots_width = 3."
   ]
  },
  {
   "cell_type": "code",
   "execution_count": null,
   "metadata": {},
   "outputs": [],
   "source": [
    "df_compare_velo = pd.read_hdf(os.path.join(main_dir_path, \"results\", \"fits\", \n",
    "                            \"df_compare_Constant_velocity_reg10_selectdata.hdf\"))\n",
    "dset_velo = \"Activation_Timeseries_1\"\n",
    "df_compare_velo = custom_pd.xs_slice(df_compare_velo, name=\"Peptide\", lvl_slice=[\"N4\", \"Q4\", \"T4\", \"V4\"], axis=0)"
   ]
  },
  {
   "cell_type": "code",
   "execution_count": null,
   "metadata": {},
   "outputs": [],
   "source": [
    "print(df_compare_velo.index.get_level_values(\"Data\").unique())"
   ]
  },
  {
   "cell_type": "code",
   "execution_count": null,
   "metadata": {},
   "outputs": [],
   "source": [
    "# Integrals\n",
    "fig, [ax1, ax2, axleg, leg] = timecourse_smallplots(\n",
    "    custom_pd.xs_slice(df_compare_velo.xs(dset_velo, level=\"Data\", axis=0)\n",
    "                    .xs(\"100k\", level=\"TCellNumber\", axis=0)\n",
    "                    .xs(\"integral\", level=\"Feature\", axis=0),\n",
    "                 name=\"Concentration\", lvl_slice=[\"1uM\", \"10nM\"], axis=0),\n",
    "    feat_name=\"N\", maxwidth=1.5, do_leg=False, \n",
    "    fontsize=6, handlelength=2.)\n",
    "fig.set_size_inches(plots_width*3/4, plots_height)\n",
    "fig.tight_layout(h_pad=0.5)\n",
    "# fig.savefig(os.path.join(main_dir_path, \"figures\", \"supp\", \"constant_velocity_integrals_latent_timecourses.pdf\"))"
   ]
  },
  {
   "cell_type": "code",
   "execution_count": null,
   "metadata": {},
   "outputs": [],
   "source": [
    "# N1 vs N2\n",
    "fig, [ax1, axleg, leg] = latentspace_smallplot(\n",
    "    df_compare_velo.xs(dset_velo, level=\"Data\", axis=0)\n",
    "                        .xs(\"100k\", level=\"TCellNumber\", axis=0)\n",
    "                        .xs(\"integral\", level=\"Feature\", axis=0),\n",
    "    feat_name=\"N\", maxwidth=1.5, do_leg=True, \n",
    "    fontsize=6, handlelength=2.)\n",
    "leg.get_frame().set_linewidth(0.0)\n",
    "fig.set_size_inches(plots_width, plots_height)\n",
    "fig.tight_layout()\n",
    "# fig.savefig(os.path.join(main_dir_path, \"figures\", \"supp\", \"constant_velocity_integrals_latent_trajectories.pdf\"))\n",
    "plt.show()\n",
    "plt.close()"
   ]
  },
  {
   "cell_type": "code",
   "execution_count": null,
   "metadata": {},
   "outputs": [],
   "source": [
    "# Parameters\n",
    "df_params_velo = pd.read_hdf(os.path.join(main_dir_path, \"results\", \"fits\", \"df_params_Constant_velocity_reg10_selectdata.hdf\"))\n",
    "\n",
    "# Remove concentrations below 1 nM\n",
    "df_params_velo = custom_pd.xs_slice(df_params_velo, name=\"Concentration\", \n",
    "                                   lvl_slice=[\"1uM\", \"300nM\", \"100nM\", \"30nM\", \"10nM\", \n",
    "                                             \"3nM\", \"1nM\"], axis=0)\n",
    "\n",
    "# Correct column names so they are formatted to math\n",
    "param_name_map = {a:a for a in df_params_velo.columns}\n",
    "param_name_map.update(param_formatting_dict)\n",
    "df_params_velo.columns = df_params_velo.columns.map(param_name_map)"
   ]
  },
  {
   "cell_type": "code",
   "execution_count": null,
   "metadata": {},
   "outputs": [],
   "source": [
    "fig, [axes, axleg, leg] = paramspace_smallplots(\n",
    "    df_params_velo.xs(\"100k\", level=\"TCellNumber\", axis=0), # [[\"v_0\", \"t_0\", r\"\\theta\"]]  \n",
    "    hue_level_name=\"Peptide\", style_level_name=None, size_level_name=\"Concentration\", \n",
    "    do_leg=True, fontsize=6, handlelength=1, maxsize=5., ncol=2)\n",
    "leg.get_frame().set_linewidth(0.0)\n",
    "fig.set_size_inches(plots_width*1.75, plots_height*2)\n",
    "fig.tight_layout(w_pad=0.5, h_pad=0.5)\n",
    "#fig.savefig(os.path.join(main_dir_path, \"figures\", \"supp\", \"param_plots_constant_velocity_100k.pdf\"), \n",
    "#    transparent=True, bbox_inches=\"tight\", bbox_extra_artists=(leg,))\n",
    "plt.show()\n",
    "plt.close()"
   ]
  },
  {
   "cell_type": "markdown",
   "metadata": {},
   "source": [
    "# Force model with matching, fixed alpha\n",
    "We want to show the fits of $n_1(t)$, $n_2(t)$ in more detail. "
   ]
  },
  {
   "cell_type": "code",
   "execution_count": null,
   "metadata": {},
   "outputs": [],
   "source": [
    "df_compare_fixalpha = pd.read_hdf(os.path.join(main_dir_path, \"results\", \"fits\", \n",
    "                                    \"df_compare_Sigmoid_reg04_selectdata.hdf\"))\n",
    "dset_fixalpha = \"Activation_Timeseries_1\""
   ]
  },
  {
   "cell_type": "code",
   "execution_count": null,
   "metadata": {},
   "outputs": [],
   "source": [
    "print(df_compare_fixalpha.index.get_level_values(\"Data\").unique())"
   ]
  },
  {
   "cell_type": "code",
   "execution_count": null,
   "metadata": {},
   "outputs": [],
   "source": [
    "# Integrals\n",
    "fig, [ax1, ax2, axleg, leg] = timecourse_smallplots(\n",
    "    custom_pd.xs_slice(df_compare_fixalpha.xs(dset_fixalpha, level=\"Data\", axis=0)\n",
    "                .xs(\"100k\", level=\"TCellNumber\", axis=0)\n",
    "                .xs(\"integral\", level=\"Feature\", axis=0), \n",
    "            name=\"Concentration\", lvl_slice=[\"1uM\", \"10nM\"], axis=0), \n",
    "    feat_name=\"N\", maxwidth=1.5, do_leg=False, \n",
    "    fontsize=6, handlelength=2.)\n",
    "fig.set_size_inches(plots_width*3/4, plots_height)\n",
    "fig.tight_layout(h_pad=0.5)\n",
    "# fig.savefig(os.path.join(main_dir_path, \"figures\", \"supp\", \"sigmoid_fixalpha_integrals_latent_timecourses.pdf\"))"
   ]
  },
  {
   "cell_type": "code",
   "execution_count": null,
   "metadata": {},
   "outputs": [],
   "source": [
    "# N1 vs N2\n",
    "fig, [ax1, axleg, leg] = latentspace_smallplot(\n",
    "    custom_pd.xs_slice(df_compare_fixalpha.xs(dset_fixalpha, level=\"Data\", axis=0)\n",
    "                        .xs(\"100k\", level=\"TCellNumber\", axis=0)\n",
    "                        .xs(\"integral\", level=\"Feature\", axis=0),\n",
    "        name=\"Peptide\", lvl_slice=[\"N4\", \"Q4\", \"T4\", \"V4\"], axis=0), \n",
    "    feat_name=\"N\", maxwidth=1.5, do_leg=True, \n",
    "    fontsize=6, handlelength=2.)\n",
    "leg.get_frame().set_linewidth(0.0)\n",
    "fig.set_size_inches(plots_width, plots_height)\n",
    "fig.tight_layout()\n",
    "# fig.savefig(os.path.join(main_dir_path, \"figures\", \"supp\", \"sigmoid_fixalpha_integrals_latent_trajectories.pdf\"))"
   ]
  },
  {
   "cell_type": "code",
   "execution_count": null,
   "metadata": {},
   "outputs": [],
   "source": [
    "# Parameters\n",
    "df_params_fixalpha = pd.read_hdf(os.path.join(main_dir_path, \"results\", \"fits\", \"df_params_Sigmoid_reg04_selectdata.hdf\"))\n",
    "\n",
    "# Remove concentrations below 1nM\n",
    "df_params_fixalpha = custom_pd.xs_slice(df_params_fixalpha, name=\"Concentration\", \n",
    "                                   lvl_slice=[\"1uM\", \"300nM\", \"100nM\", \"30nM\", \"10nM\", \n",
    "                                             \"3nM\", \"1nM\"], axis=0)\n",
    "\n",
    "# Correct column names so they are formatted to math\n",
    "param_name_map = {a:a for a in df_params_fixalpha.columns}\n",
    "param_name_map.update(param_formatting_dict)\n",
    "df_params_fixalpha.columns = df_params_fixalpha.columns.map(param_name_map)"
   ]
  },
  {
   "cell_type": "code",
   "execution_count": null,
   "metadata": {},
   "outputs": [],
   "source": [
    "fig, [axes, axleg, leg] = paramspace_smallplots(\n",
    "    df_params_fixalpha.xs(\"100k\", level=\"TCellNumber\", axis=0)[[\"a_0\", \"t_0\", r\"\\theta\", r\"v_{t1}\"]],  \n",
    "    hue_level_name=\"Peptide\", style_level_name=None, size_level_name=\"Concentration\", \n",
    "    do_leg=True, maxsize=5., fontsize=6, handlelength=1, ncol=2)\n",
    "leg.get_frame().set_linewidth(0.0)\n",
    "fig.set_size_inches(plots_width*1.75, plots_height*2)\n",
    "fig.tight_layout(w_pad=0.5, h_pad=0.5)\n",
    "#fig.savefig(os.path.join(main_dir_path, \"figures\", \"supp\", \"param_plots_sigmoid_fixalpha_100k_4paramsshown.pdf\"),\n",
    "#           transparent=True, bbox_inches=\"tight\", bbox_extra_artists=(leg,))\n",
    "plt.show()\n",
    "plt.close()"
   ]
  },
  {
   "cell_type": "markdown",
   "metadata": {},
   "source": [
    "# Force model with matching, free alpha\n",
    "What we want to show is mostly the parameter space colored per T cell number, because the fits are essentially identical, but the parameter space takes care of T cell number separately from other peptide-related attributes. "
   ]
  },
  {
   "cell_type": "code",
   "execution_count": null,
   "metadata": {},
   "outputs": [],
   "source": [
    "df_compare_freealpha = pd.read_hdf(os.path.join(main_dir_path, \"results\", \"fits\", \n",
    "                                    \"df_compare_Sigmoid_freealpha_reg04_selectdata.hdf\"))\n",
    "dset_freealpha = \"Activation_Timeseries_1\""
   ]
  },
  {
   "cell_type": "code",
   "execution_count": null,
   "metadata": {},
   "outputs": [],
   "source": [
    "print(df_compare_freealpha.index.get_level_values(\"Data\").unique())"
   ]
  },
  {
   "cell_type": "code",
   "execution_count": null,
   "metadata": {},
   "outputs": [],
   "source": [
    "# Integrals\n",
    "fig, [ax1, ax2, axleg, leg] = timecourse_smallplots(\n",
    "    custom_pd.xs_slice(df_compare_freealpha.xs(dset_freealpha, level=\"Data\", axis=0)\n",
    "                .xs(\"100k\", level=\"TCellNumber\", axis=0)\n",
    "                .xs(\"integral\", level=\"Feature\", axis=0), \n",
    "            name=\"Concentration\", lvl_slice=[\"1uM\", \"10nM\"], axis=0),\n",
    "    feat_name=\"N\", maxwidth=1.5, do_leg=False, \n",
    "    fontsize=6, handlelength=2.)\n",
    "fig.set_size_inches(plots_width*3/4, plots_height)\n",
    "fig.tight_layout(h_pad=0.5)\n",
    "#fig.savefig(os.path.join(main_dir_path, \"figures\", \"supp\", \"sigmoid_freealpha_integrals_latent_timecourses.pdf\"))"
   ]
  },
  {
   "cell_type": "code",
   "execution_count": null,
   "metadata": {},
   "outputs": [],
   "source": [
    "# N1 vs N2\n",
    "fig, [ax1, axleg, leg] = latentspace_smallplot(\n",
    "    custom_pd.xs_slice(df_compare_freealpha.xs(dset_freealpha, level=\"Data\", axis=0)\n",
    "                        .xs(\"100k\", level=\"TCellNumber\", axis=0)\n",
    "                        .xs(\"integral\", level=\"Feature\", axis=0),\n",
    "        name=\"Peptide\", lvl_slice=[\"N4\", \"Q4\", \"T4\", \"V4\"], axis=0), \n",
    "    feat_name=\"N\", maxwidth=1.5, do_leg=True, \n",
    "    fontsize=6, handlelength=2.)\n",
    "leg.get_frame().set_linewidth(0.0)\n",
    "fig.set_size_inches(plots_width, plots_height)\n",
    "fig.tight_layout()\n",
    "#fig.savefig(os.path.join(main_dir_path, \"figures\", \"supp\", \n",
    "#    \"sigmoid_freealpha_integrals_latent_trajectories.pdf\"))"
   ]
  },
  {
   "cell_type": "code",
   "execution_count": null,
   "metadata": {},
   "outputs": [],
   "source": [
    "# Parameters\n",
    "df_params_freealpha = pd.read_hdf(os.path.join(main_dir_path, \"results\", \"fits\", \n",
    "                                    \"df_params_Sigmoid_freealpha_reg04_selectdata.hdf\"))\n",
    "\n",
    "# Remove concentrations below 1nM\n",
    "df_params_freealpha = custom_pd.xs_slice(df_params_freealpha, name=\"Concentration\", \n",
    "                                   lvl_slice=[\"1uM\", \"300nM\", \"100nM\", \"30nM\", \"10nM\", \n",
    "                                             \"3nM\", \"1nM\"], axis=0)\n",
    "\n",
    "# Correct column names so they are formatted to math\n",
    "param_name_map = {a:a for a in df_params_freealpha.columns}\n",
    "param_name_map.update(param_formatting_dict)\n",
    "df_params_freealpha.columns = df_params_freealpha.columns.map(param_name_map)"
   ]
  },
  {
   "cell_type": "code",
   "execution_count": null,
   "metadata": {},
   "outputs": [],
   "source": [
    "print(df_params_freealpha.index.get_level_values(\"Data\").unique())"
   ]
  },
  {
   "cell_type": "code",
   "execution_count": null,
   "metadata": {},
   "outputs": [],
   "source": [
    "fig, [axes, axleg, leg] = paramspace_smallplots(\n",
    "    df_params_freealpha.xs(\"100k\", level=\"TCellNumber\", axis=0)[[\"a_0\", \"t_0\", r\"\\theta\", r\"v_{t1}\"]], \n",
    "    hue_level_name=\"Peptide\", style_level_name=None, size_level_name=\"Concentration\", \n",
    "    do_leg=True, maxsize=5., fontsize=6, handlelength=1, ncol=2)\n",
    "leg.get_frame().set_linewidth(0.0)\n",
    "fig.set_size_inches(plots_width*1.75, plots_height*2)\n",
    "fig.tight_layout(w_pad=0.5, h_pad=0.5)\n",
    "#fig.savefig(os.path.join(main_dir_path, \"figures\", \"supp\", \"param_plots_sigmoid_freealpha_100k_4paramsshown.pdf\"), \n",
    "#            transparent=True, bbox_inches=\"tight\", bbox_extra_artists=(leg,))\n",
    "plt.show()\n",
    "plt.close()"
   ]
  },
  {
   "cell_type": "markdown",
   "metadata": {},
   "source": [
    "# Comparison of models for concentration\n",
    "Choose the same data set for all compared models, but a different dataset from above just to show that the models do not fit a single experiment"
   ]
  },
  {
   "cell_type": "code",
   "execution_count": null,
   "metadata": {},
   "outputs": [],
   "source": [
    "dset_conc = \"TCellNumber_OT1_Timeseries_7\""
   ]
  },
  {
   "cell_type": "code",
   "execution_count": null,
   "metadata": {},
   "outputs": [],
   "source": [
    "# Constant velocity model\n",
    "fig, [ax1, ax2, axleg, leg] = timecourse_smallplots(\n",
    "    custom_pd.xs_slice(df_compare_velo.xs(dset_conc, level=\"Data\", axis=0)\n",
    "                        .xs(\"100k\", level=\"TCellNumber\", axis=0)\n",
    "                        .xs(\"concentration\", level=\"Feature\", axis=0),\n",
    "        name=\"Concentration\", lvl_slice=[\"1uM\", \"10nM\"], axis=0), \n",
    "    feat_name=\"n\", maxwidth=1.5, do_leg=False, \n",
    "    fontsize=6, handlelength=2.)\n",
    "# leg.get_frame().set_linewidth(0.0)\n",
    "fig.set_size_inches(plots_width*3/4, plots_height)\n",
    "fig.tight_layout(h_pad=0.5)\n",
    "#fig.savefig(os.path.join(main_dir_path, \"figures\", \"supp\", \"constant_velocity_concentrations_latent_timecourses.pdf\"))"
   ]
  },
  {
   "cell_type": "code",
   "execution_count": null,
   "metadata": {},
   "outputs": [],
   "source": [
    "# Fixed alpha model\n",
    "fig, [ax1, ax2, axleg, leg] = timecourse_smallplots(\n",
    "    custom_pd.xs_slice(df_compare_fixalpha.xs(dset_conc, level=\"Data\", axis=0)\n",
    "                .xs(\"100k\", level=\"TCellNumber\", axis=0)\n",
    "                .xs(\"concentration\", level=\"Feature\", axis=0),\n",
    "        name=\"Concentration\", lvl_slice=[\"1uM\", \"10nM\"], axis=0),\n",
    "    feat_name=\"n\", maxwidth=1.5, do_leg=False, \n",
    "    fontsize=6, handlelength=2.)\n",
    "# leg.get_frame().set_linewidth(0.0)\n",
    "fig.set_size_inches(plots_width*3/4, plots_height)\n",
    "fig.tight_layout(h_pad=0.5)\n",
    "#fig.savefig(os.path.join(main_dir_path, \"figures\", \"supp\", \n",
    "#            \"sigmoid_fixalpha_concentrations_latent_timecourses.pdf\"))"
   ]
  },
  {
   "cell_type": "code",
   "execution_count": null,
   "metadata": {},
   "outputs": [],
   "source": [
    "# Free alpha model\n",
    "fig, [ax1, ax2, axleg, leg] = timecourse_smallplots(\n",
    "    custom_pd.xs_slice(df_compare_freealpha.xs(dset_conc, level=\"Data\", axis=0)\n",
    "                .xs(\"100k\", level=\"TCellNumber\", axis=0)\n",
    "                .xs(\"concentration\", level=\"Feature\", axis=0), \n",
    "        name=\"Concentration\", lvl_slice=[\"1uM\", \"10nM\"], axis=0), \n",
    "    feat_name=\"n\", maxwidth=1.5, do_leg=True, \n",
    "    fontsize=6, handlelength=2.)\n",
    "leg.get_frame().set_linewidth(0.0)\n",
    "fig.set_size_inches(plots_width, plots_height)\n",
    "fig.tight_layout(h_pad=0.5)\n",
    "#fig.savefig(os.path.join(main_dir_path, \"figures\", \"supp\", \n",
    "#            \"sigmoid_freealpha_concentrations_latent_timecourses.pdf\"))"
   ]
  },
  {
   "cell_type": "markdown",
   "metadata": {},
   "source": [
    "## Fit residuals on concentrations and integrals\n",
    "Per peptide, averaged over all conditions, on each node.  "
   ]
  },
  {
   "cell_type": "code",
   "execution_count": null,
   "metadata": {},
   "outputs": [],
   "source": [
    "def compute_residuals(df, gby_extras=()):\n",
    "    pr = \"Processing type\"\n",
    "    df_res = ((df.xs(\"Splines\", level=pr) - df.xs(\"Fit\", level=pr))**2\n",
    "             ).groupby([\"Feature\", *gby_extras]).mean()\n",
    "    return df_res.unstack(\"Feature\")"
   ]
  },
  {
   "cell_type": "code",
   "execution_count": null,
   "metadata": {},
   "outputs": [],
   "source": [
    "# Compute residuals for integrals and concentrations\n",
    "groupby_extras=(\"Time\",)\n",
    "df_res_velo = compute_residuals(df_compare_velo, gby_extras=groupby_extras)\n",
    "df_res_fixalpha = compute_residuals(df_compare_fixalpha, gby_extras=groupby_extras)\n",
    "df_res_freealpha = compute_residuals(df_compare_freealpha, gby_extras=groupby_extras)\n",
    "print(df_res_velo)"
   ]
  },
  {
   "cell_type": "code",
   "execution_count": null,
   "metadata": {},
   "outputs": [],
   "source": [
    "df_res_all = pd.concat({\"Constant \\nvelocity\":df_res_velo, \n",
    "                        \"Matching, \\nfixed \" + r\"$\\alpha$\": df_res_fixalpha, \n",
    "                        \"Matching, \\nfree \" + r\"$\\alpha$\": df_res_freealpha}, \n",
    "                       axis=0, names=[\"Model\"])"
   ]
  },
  {
   "cell_type": "code",
   "execution_count": null,
   "metadata": {},
   "outputs": [],
   "source": [
    "# Plots for integrals\n",
    "def plot_residuals_feature(df_all, feat=\"integral\", colmap=\"cubehelix\", do_leg=True, **kwargs):\n",
    "    \"\"\" kwargs are passed to axes.legend(). \"\"\"\n",
    "    fig = plt.figure()\n",
    "    if do_leg:\n",
    "        gs = fig.add_gridspec(nrows=2, ncols=4)\n",
    "    else:\n",
    "        gs = fig.add_gridspec(nrows=2, ncols=3)\n",
    "    axes = [fig.add_subplot(gs[0, :3])]\n",
    "    axes.append(fig.add_subplot(gs[1, :3], sharex=axes[0]))\n",
    "    times = df_all.index.get_level_values(\"Time\").unique().map(float)\n",
    "    if isinstance(colmap, str):\n",
    "        colors = [sns.set_hls_values(a, s=1) for a in sns.color_palette(colmap, 4)]\n",
    "        # colors = sns.color_palette(colmap, 4)\n",
    "    elif isinstance(colmap, list):\n",
    "        colors = colmap\n",
    "    else:\n",
    "        raise TypeError(\"{} not a supported type for colmap\".format(type(colmap)))\n",
    "    styles = [\"-\", \":\", \"--\", \"-.\"]\n",
    "    for i, mod in enumerate(df_all.index.get_level_values(\"Model\").unique()):\n",
    "        axes[0].plot(times, df_all.loc[mod, (\"Node 1\", feat)], label=mod, color=colors[i],\n",
    "                    ls=styles[i], lw=2.)\n",
    "        axes[1].plot(times, df_all.loc[mod, (\"Node 2\", feat)], label=mod, color=colors[i], \n",
    "                    ls=styles[i], lw=2.)\n",
    "\n",
    "    # Adjust size, labels, etc. \n",
    "    axes[1].set_xlabel(\"Time [h]\", size=8)\n",
    "    lbl = \"n\" if feat==\"concentration\" else \"N\"\n",
    "    for i in range(2):\n",
    "        axes[i].tick_params(axis=\"both\", length=2., width=0.5, labelsize=6.)\n",
    "        axes[i].set_yscale(\"log\")\n",
    "        axes[i].set_ylabel(r\"Residuals$^2$ ${}_{}$\".format(lbl, i+1), size=8)\n",
    "    # Add a legend\n",
    "    if do_leg:\n",
    "        kwargs2 = dict(bbox_to_anchor=(0, 0), loc=\"lower left\")\n",
    "        kwargs2.update(kwargs)\n",
    "        legax = fig.add_subplot(gs[:, -1])\n",
    "        leg = legax.legend(*axes[1].get_legend_handles_labels(), **kwargs2)\n",
    "        legax.set_axis_off()\n",
    "    else:\n",
    "        legax = None\n",
    "        \n",
    "    return fig, axes, legax"
   ]
  },
  {
   "cell_type": "code",
   "execution_count": null,
   "metadata": {},
   "outputs": [],
   "source": [
    "cmap = [sns.set_hls_values(a, s=1) for a in sns.color_palette(\"cubehelix\", 4)][-2::-1]\n",
    "fig, axes, legax = plot_residuals_feature(df_res_all, feat=\"integral\", colmap=cmap, do_leg=False)\n",
    "fig.set_size_inches(plots_width*3/4, plots_height)\n",
    "fig.tight_layout(h_pad=0.5)\n",
    "#fig.savefig(os.path.join(main_dir_path, \"figures\", \"supp\", \"residuals_integrals.pdf\"), transparent=True)\n",
    "plt.show()\n",
    "plt.close()"
   ]
  },
  {
   "cell_type": "code",
   "execution_count": null,
   "metadata": {},
   "outputs": [],
   "source": [
    "fig, axes, legax = plot_residuals_feature(df_res_all, feat=\"concentration\", colmap=cmap, \n",
    "                                          do_leg=True, fontsize=6, handlelength=2., labelspacing=1., \n",
    "                                         bbox_to_anchor=(0, -0.12))\n",
    "fig.set_size_inches(plots_width, plots_height)\n",
    "fig.tight_layout(h_pad=0.5)\n",
    "legax.get_legend().get_frame().set_linewidth(0.0)\n",
    "#fig.savefig(os.path.join(main_dir_path, \"figures\", \"supp\", \"residuals_concentrations.pdf\"), transparent=True, \n",
    "#            bbox_extra_artists=(legax.get_legend(),), bbox_inches=\"tight\")\n",
    "plt.show()\n",
    "plt.close()"
   ]
  },
  {
   "cell_type": "markdown",
   "metadata": {},
   "source": [
    "# Effect of T cell number on fits of different models – removed from paper\n",
    "We did not discuss this at length, but fitting the $\\alpha$ parameter in the constant force model with matching improves fit residuals for T cell numbers different from 100k initial cells. Also, fitting $\\alpha$ makes the $a_0$ vs $t_0$ correlation collapse onto a single diagonal, while that correlation has different slopes for different T cell numbers when $\\alpha$ is fixed. "
   ]
  },
  {
   "cell_type": "code",
   "execution_count": null,
   "metadata": {},
   "outputs": [],
   "source": [
    "groupby_extras = (\"TCellNumber\",)\n",
    "tcnums = [\"100k\", \"30k\", \"10k\", \"3k\"]\n",
    "dsets = ['Activation_TCellNumber_1']\n",
    "\n",
    "df_res_all_tcn = pd.concat({\n",
    "    \"Matching, \\nfixed \" + r\"$\\alpha$\": \n",
    "        compute_residuals(df_compare_fixalpha.loc[(dsets, tcnums), :], groupby_extras), \n",
    "    \"Matching, \\nfree \" + r\"$\\alpha$\": \n",
    "        compute_residuals(df_compare_freealpha.loc[(dsets, tcnums), :], groupby_extras)\n",
    "    }, names=[\"Model\"], axis=0)\n",
    "df_res_all_tcn = df_res_all_tcn.groupby([\"TCellNumber\", \"Model\"]).mean()\n",
    "df_res_all_tcn.columns = df_res_all_tcn.columns.set_names([\"Node\", \"Feature\"])\n",
    "df_res_all_tcn = df_res_all_tcn.stack(\"Node\").unstack(\"Node\")"
   ]
  },
  {
   "cell_type": "code",
   "execution_count": null,
   "metadata": {},
   "outputs": [],
   "source": [
    "all_models = df_res_all.index.get_level_values(\"Model\").unique()\n",
    "colors_models = [sns.set_hls_values(a, s=1) for a in sns.color_palette(\"cubehelix\", len(all_models))]\n",
    "colormap_models = {all_models[i]:colors_models[i] for i in range(len(all_models))}\n",
    "\n",
    "fig, axes, legax = barplots_levels(\n",
    "    df_res_all_tcn[[(\"concentration\", \"Node 1\"), (\"concentration\", \"Node 2\")]]*1e5, \n",
    "    hue_lvl=\"Model\", x_lvl=\"TCellNumber\", groupwidth=0.7, hue_map=colormap_models, hue_reverse=False)\n",
    "\n",
    "# Rectify the y axis labels and title\n",
    "axes[0].set_ylabel(r\"$10^5 \\, \\times$ Res${}^2$\", size=8)\n",
    "axes[0].set_xlabel(\"T cell number\", size=8)\n",
    "for i in range(1, len(df_res_all_tcn.index.get_level_values(\"Model\").unique())):\n",
    "    axes[i].set_ylabel(\"\")\n",
    "    axes[i].set_xlabel(\"T cell number\", size=8)\n",
    "axes[0].set_title(\"Node 1\", fontsize=8)\n",
    "axes[1].set_title(\"Node 2\", fontsize=8)\n",
    "\n",
    "fig.set_size_inches(4.25, 1.8)  # Smaller nice size: 3.5, 1.6\n",
    "fig.tight_layout(h_pad=0.5, w_pad=0.5)\n",
    "# fig.savefig(os.path.join(main_dir_path, \"figures\", \"supp\", \"residuals_tcellnumber_alpha.pdf\"), \n",
    "#        transparent=True, bbox_inches=\"tight\")\n",
    "plt.show()\n",
    "plt.close()"
   ]
  },
  {
   "cell_type": "markdown",
   "metadata": {},
   "source": [
    "## Parameter pairplots colored per T cell number\n",
    "Take 1 (maybe 2 very similar) datasets where we can see how fitting alpha makes the v0 vs t0 curves collapse on top of each other. \n",
    "\n",
    "- Show a_0 vs t_0 for fixed and free alpha; \n",
    "    - Add linear r quadratic regression fits for each TCN? \n",
    "- Show a KDE plot of the $\\alpha$ parameter\n",
    "- Try to respect the color map used for each model, rather than the color map viridis for T cell number? "
   ]
  },
  {
   "cell_type": "code",
   "execution_count": null,
   "metadata": {},
   "outputs": [],
   "source": [
    "# Prepare colors: fixed alpha\n",
    "# colors_fixed_alpha = create_midseeded_clist(colormap_models.get(\"Matching, \\nfixed \" + r\"$\\alpha$\"), len(tcnums))\n",
    "colors_fixed_alpha = create_cmap_seed(colormap_models.get(\"Matching, \\nfixed \" + r\"$\\alpha$\"), \n",
    "                                      n_colors = len(tcnums), light=False)\n",
    "#colors_fixed_alpha = sns.light_palette(colormap_models.get(\"Matching, \\nfixed \" + r\"$\\alpha$\"), n_colors=len(tcnums)+1)[1:]"
   ]
  },
  {
   "cell_type": "code",
   "execution_count": null,
   "metadata": {},
   "outputs": [],
   "source": [
    "# Prepare colors: free alpha\n",
    "#colors_free_alpha = create_midseeded_clist(colormap_models.get(\"Matching, \\nfree \" + r\"$\\alpha$\"), len(tcnums), max_l=0.92, min_l=0.5)\n",
    "colors_free_alpha = create_cmap_seed(colormap_models.get(\"Matching, \\nfree \" + r\"$\\alpha$\"), \n",
    "                                      n_colors = len(tcnums), light=False)\n",
    "#colors_free_alpha = sns.light_palette(colormap_models.get(\"Matching, \\nfree \" + r\"$\\alpha$\"), n_colors=len(tcnums)+1)[1:]"
   ]
  },
  {
   "cell_type": "code",
   "execution_count": null,
   "metadata": {},
   "outputs": [],
   "source": [
    "df_params_freealpha = df_params_freealpha.astype(np.float64)\n",
    "df_params_fixalpha = df_params_fixalpha.astype(np.float64)\n",
    "dsets = ['Activation_TCellNumber_1', \"TCellNumber_OT1_Timeseries_7\", \"Activation_TCellNumber_2\", \n",
    "        \"TCellNumber_1\", \"TCellNumber_2\"]\n",
    "dsets = dsets[1:2]"
   ]
  },
  {
   "cell_type": "code",
   "execution_count": null,
   "metadata": {},
   "outputs": [],
   "source": [
    "def pairwise_params_plot_linear_fit(df, dsets, params, tcns, colors, ax):\n",
    "    markers = [\"o\", \"s\", \"o\", \"X\", \"P\", \"1\", \"2\", \"3\", \"4\", \"8\", \"*\", \"D\"]\n",
    "    parx, pary = params[0], params[1]\n",
    "    for i, tcn in enumerate(tcns):\n",
    "        x, y = df.loc[(dsets, tcn), parx], df.loc[(dsets, tcn), pary]\n",
    "        j = 0\n",
    "        for pep in df.loc[dsets].index.get_level_values(\"Peptide\").unique():\n",
    "            ax.plot(x.xs(pep, level=\"Peptide\").values, y.xs(pep, level=\"Peptide\").values, \n",
    "                    color=colors[i], ls=\"none\", marker=markers[j], ms=4)\n",
    "            j += 1\n",
    "\n",
    "        # Quadratic fit to emphasize the collapse or lack thereof. Force through zero\n",
    "        coefs = np.polynomial.polynomial.polyfit(x.values, y.values, deg=[1, 2], rcond=None, full=False)\n",
    "        xrange = np.arange(x.min(), x.max()+0.025, 0.05)\n",
    "        ax.plot(xrange, np.polynomial.polynomial.polyval(xrange, coefs), ls=\"-\", lw=1., \n",
    "                color=colors[i], label=tcn)\n",
    "    return ax, coefs"
   ]
  },
  {
   "cell_type": "code",
   "execution_count": null,
   "metadata": {},
   "outputs": [],
   "source": [
    "# First and second plot: t_0 vs a_0 for fixed alpha\n",
    "fig, axes = plt.subplots(2, 2, sharex=\"col\")\n",
    "fig.set_size_inches(4.25, 3.25)\n",
    "\n",
    "ax, coefs = pairwise_params_plot_linear_fit(df_params_fixalpha, dsets, \n",
    "                        [\"a_0\", \"t_0\"], tcnums, colors_fixed_alpha, axes[0, 0])\n",
    "\n",
    "# Second plot: same thing, for fixed alpha\n",
    "ax, coefs = pairwise_params_plot_linear_fit(df_params_freealpha, dsets, \n",
    "                        [\"a_0\", \"t_0\"], tcnums, colors_free_alpha, axes[1, 0])\n",
    "\n",
    "# Third plot: KDE of alpha\n",
    "sns.kdeplot(data=df_params_freealpha.loc[dsets].reset_index(), x=r\"\\alpha\", hue=\"TCellNumber\", palette=colors_free_alpha, \n",
    "            ax=axes[1, 1], legend=False, fill=True)\n",
    "\n",
    "# Label plots properly\n",
    "for i in range(2):\n",
    "    axes[i, 0].set_ylabel(r\"$t_0$ [-]\", size=9)\n",
    "    axes[i, 0].set_xlabel(r\"$a_0$ [-]\", size=9)\n",
    "    axes[i, 0].tick_params(axis=\"both\", width=0.5, length=2.5, labelsize=7)\n",
    "axes[1, 1].set_xlabel(r\"$\\alpha$ [-]\", size=9)\n",
    "axes[1, 1].set_ylabel(\"Density [-]\", size=9)\n",
    "axes[1, 1].tick_params(axis=\"both\", width=0.5, length=2.5, labelsize=7)\n",
    "\n",
    "\n",
    "# Legend\n",
    "models = list(df_res_all_tcn.index.get_level_values(\"Model\").unique())\n",
    "models.sort(key=lambda x: x.count(\"free\"))\n",
    "for i in range(len(models)):\n",
    "    models[i].replace(\"\\n\", \"\")\n",
    "legd = add_legend_subtitles_huemaps(models, hue_maps=[\n",
    "            {tcnums[i]:colors_fixed_alpha[i] for i in range(len(tcnums))}, \n",
    "            {tcnums[i]:colors_free_alpha[i] for i in range(len(tcnums))}], \n",
    "        ax=axes[0, 1], hue_levels_order=tcnums[::-1],\n",
    "        fontsize=8, ncol=2, borderaxespad=-2.5, loc=\"upper left\", \n",
    "        bbox_to_anchor=(0.05, 0.65), frameon=False, columnspacing=-4.)\n",
    "\n",
    "axes[0, 1].set_axis_off()\n",
    "fig.tight_layout()\n",
    "# fig.savefig(os.path.join(main_dir_path, \"figures\", \"supp\", \"a0-t0_slope_alphaKDE_{}.pdf\".format(dsets[0])), transparent=True)\n",
    "plt.show()\n",
    "plt.close()"
   ]
  },
  {
   "cell_type": "code",
   "execution_count": null,
   "metadata": {},
   "outputs": [],
   "source": []
  }
 ],
 "metadata": {
  "kernelspec": {
   "display_name": "Python 3",
   "language": "python",
   "name": "python3"
  },
  "language_info": {
   "codemirror_mode": {
    "name": "ipython",
    "version": 3
   },
   "file_extension": ".py",
   "mimetype": "text/x-python",
   "name": "python",
   "nbconvert_exporter": "python",
   "pygments_lexer": "ipython3",
   "version": "3.7.6"
  }
 },
 "nbformat": 4,
 "nbformat_minor": 4
}
