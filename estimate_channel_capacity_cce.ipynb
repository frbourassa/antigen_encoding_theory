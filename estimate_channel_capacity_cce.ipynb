{
 "cells": [
  {
   "cell_type": "markdown",
   "metadata": {},
   "source": [
    "# Channel capacity for parameter space with the Kraskov MI estimator\n",
    "Using a package called [cce](https://github.com/pawel-czyz/channel-capacity-estimator), which was developed for the paper [Grabowski et al., 2019](https://dx.doi.org/10.1098/rsif.2018.0792)\n",
    "> Grabowski, Czyz, Kochanczyk, and Lipniacki. \"Limits to the rate of information transmission through the MAPK pathway\" J. R. Soc., Interface, 2019. \n",
    "\n",
    "It combines the bin-less MI estimator of\n",
    "> Kraskov, Stögbauer, and Grassberger. \"Estimating mutual information\", *Phys. Rev. E*, 2004. \n",
    "\n",
    "with stochastic gradient descent as implemented in Tensorflow. It takes sample points (possibly multidimensional) with different labels and maximizes the MI between the points and the labels. It is much faster than our Blahut-Arimoto plus Monte Carlo integration, but that's because it only uses the 36 sample points per peptide that we have -- our B-A algorithm is based on multivariate normal distributions fitted and interpolated to have access to more closely spaced EC$_{50}$; the integrals involved take a lot longer to compute. \n",
    "\n",
    "**To run this notebook, you need to install the cce package on your computing, following the instructions on its Github page**: https://github.com/pawel-czyz/channel-capacity-estimator"
   ]
  },
  {
   "cell_type": "code",
   "execution_count": null,
   "metadata": {},
   "outputs": [],
   "source": [
    "import numpy as np\n",
    "import pandas as pd\n",
    "import matplotlib.pyplot as plt\n",
    "import scipy as sp\n",
    "import seaborn as sns\n",
    "\n",
    "from datetime import date\n",
    "import json\n",
    "from time import perf_counter\n",
    "import os\n",
    "\n",
    "# YOU NEED TO INSTALL CCE: https://github.com/pawel-czyz/channel-capacity-estimator\n",
    "import cce"
   ]
  },
  {
   "cell_type": "markdown",
   "metadata": {},
   "source": [
    "## Import the data and prepare it for cce"
   ]
  },
  {
   "cell_type": "code",
   "execution_count": null,
   "metadata": {},
   "outputs": [],
   "source": [
    "folder =  \"highmi13\"  # \"100ktcn\", \"alltcn\", \"highmi\"\n",
    "tcn = \"30k\"\n",
    "suffix = \"_TCNall\" if folder == \"alltcn\" else \"_TCN\"+tcn"
   ]
  },
  {
   "cell_type": "code",
   "execution_count": null,
   "metadata": {},
   "outputs": [],
   "source": [
    "# If you fit model parameters (any model) on another dataset, you can import the DataFrame \n",
    "# with the fitted parameters saved by the fit_ballistic_model.ipynb notebook\n",
    "df_params = pd.read_hdf(os.path.join(\"results\", \"fits\", \"df_params_Sigmoid_freealpha_HighMI_13.hdf\"))\n",
    "df_params.drop_duplicates(inplace=True)"
   ]
  },
  {
   "cell_type": "code",
   "execution_count": null,
   "metadata": {},
   "outputs": [],
   "source": [
    "good_cols = [col for col in df_params.columns if not col.startswith(\"var\")]\n",
    "data_cce = list(zip(df_params.index.get_level_values(\"Peptide\"), df_params.loc[:, good_cols].values))"
   ]
  },
  {
   "cell_type": "code",
   "execution_count": null,
   "metadata": {},
   "outputs": [],
   "source": [
    "print(\"\\n\".join(map(str, data_cce[::100])))"
   ]
  },
  {
   "cell_type": "code",
   "execution_count": null,
   "metadata": {},
   "outputs": [],
   "source": [
    "potencies = pd.read_json(os.path.join(\"data\", \"potencies_df_2021.json\"))\n",
    "potencies"
   ]
  },
  {
   "cell_type": "code",
   "execution_count": null,
   "metadata": {},
   "outputs": [],
   "source": [
    "peptide_order = df_params.index.get_level_values(\"Peptide\").unique()\n",
    "ec50s_logs = np.around(np.log10(potencies).mean(axis=1).loc[peptide_order].values, 2)"
   ]
  },
  {
   "cell_type": "markdown",
   "metadata": {},
   "source": [
    "## Run the cce algorithm"
   ]
  },
  {
   "cell_type": "code",
   "execution_count": null,
   "metadata": {},
   "outputs": [],
   "source": [
    "start_t = perf_counter()\n",
    "knn = 6  # This seems an appropriate number of nearest-neighbors for 36 replicates per peptide. \n",
    "res = cce.WeightedKraskovEstimator(data_cce).calculate_maximized_mi(k=knn)\n",
    "run_duration = perf_counter() - start_t\n",
    "print(res)"
   ]
  },
  {
   "cell_type": "code",
   "execution_count": null,
   "metadata": {},
   "outputs": [],
   "source": [
    "# Save more info on the run in a JSON file\n",
    "today = date.today().strftime(\"%d-%b-%Y\").lower()\n",
    "input_values = ec50s_logs\n",
    "optim_input_distrib = [float(res[1][a]) for a in peptide_order]\n",
    "capacity_bits = float(res[0])\n",
    "n_inputs =  len(optim_input_distrib)\n",
    "reltol = 0.04\n",
    "\n",
    "run_info = {\n",
    "    \"date\": today, \n",
    "    \"capacity_bits\": capacity_bits, \n",
    "    \"input_values\": list(input_values.astype(float)), \n",
    "    \"input_peptides\": list(peptide_order), \n",
    "    \"optim_input_distrib\": optim_input_distrib, \n",
    "    \"run_duration (s)\": run_duration, \n",
    "    \"relative tolerance\": reltol, \n",
    "    \"absolute_error\": reltol*capacity_bits, \n",
    "    \"n_inputs\": n_inputs, \n",
    "    \"k_nearest_neighbors\": knn\n",
    "}\n",
    "\n",
    "filename = os.path.join(\"results\", folder, \n",
    "    \"cce_run_log_{}ins_rtol{:.0e}{}_{}.json\".format(n_inputs, reltol, suffix, today))\n",
    "\n",
    "# Uncomment to save the result of the CCE calculation\n",
    "#with open(filename, \"w\") as hand:\n",
    "#    json.dump(run_info, hand)"
   ]
  },
  {
   "cell_type": "markdown",
   "metadata": {},
   "source": [
    "## Analyze the results"
   ]
  },
  {
   "cell_type": "code",
   "execution_count": null,
   "metadata": {},
   "outputs": [],
   "source": [
    "# Make a histogram (bar plot) of the optimal input distribution\n",
    "fig, ax = plt.subplots()\n",
    "# Sort the input EC50 values and the probabilities; compute bar widths\n",
    "sortxpos = np.argsort(ec50s_logs)\n",
    "distrib = np.asarray(optim_input_distrib)[sortxpos]\n",
    "xpos = np.asarray(ec50s_logs)[sortxpos]\n",
    "\n",
    "separators = np.concatenate([[0.], (xpos[1:] + xpos[:-1])/2, [1.]])\n",
    "# Same width on left and right sides of the first and last bars\n",
    "separators[0] = max(0., xpos[0] - (separators[1] - xpos[0]))   \n",
    "separators[-1] = xpos[-1] + (xpos[-1] - separators[-2])\n",
    "widths = separators[1:] - separators[:-1]\n",
    "\n",
    "ax.bar(separators[:-1], height=distrib, width=widths, linewidth=1., edgecolor=\"k\", align=\"edge\")\n",
    "ax.set_xlabel(r\"$\\log_{10}{(\\mathrm{EC}_{50})}$ [-]\", size=14)\n",
    "ax.set_ylabel(\"Probability [-]\", size=14)\n",
    "\n",
    "# Custom x ticks\n",
    "ax.tick_params(which=\"both\", labelsize=12)\n",
    "ax.set_xticks(ec50s_logs)\n",
    "ax.set_xticklabels([peptide_order[i]+\"\\n\"+str(round(ec50s_logs[i], 1)) \n",
    "                    for i in range(len(peptide_order))])\n",
    "ax.annotate(r\"C = {:.4f} bits $\\pm$ {:.2f} %\".format(res[0], reltol*100), \n",
    "            xy=(0.2, 0.9), xycoords=\"axes fraction\", size=12)\n",
    "\n",
    "#fig.savefig(os.path.join(\"figures\", folder, \n",
    "#    \"cce_optimal_logec50_distrib_{}inputs_rtol{:.0e}{}.pdf\".format(n_inputs, reltol, suffix)))\n",
    "plt.show()\n",
    "plt.close()"
   ]
  },
  {
   "cell_type": "code",
   "execution_count": null,
   "metadata": {},
   "outputs": [],
   "source": []
  }
 ],
 "metadata": {
  "kernelspec": {
   "display_name": "Python 3",
   "language": "python",
   "name": "python3"
  },
  "language_info": {
   "codemirror_mode": {
    "name": "ipython",
    "version": 3
   },
   "file_extension": ".py",
   "mimetype": "text/x-python",
   "name": "python",
   "nbconvert_exporter": "python",
   "pygments_lexer": "ipython3",
   "version": "3.7.6"
  }
 },
 "nbformat": 4,
 "nbformat_minor": 2
}
